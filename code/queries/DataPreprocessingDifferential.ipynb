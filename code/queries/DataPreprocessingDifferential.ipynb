{
 "cells": [
  {
   "cell_type": "code",
   "execution_count": 40,
   "metadata": {},
   "outputs": [],
   "source": [
    "import zipfile, io, json, os\n",
    "from kaggle.api.kaggle_api_extended import KaggleApi\n",
    "import pandas as pd\n",
    "import numpy as np\n",
    "import sqlite3"
   ]
  },
  {
   "cell_type": "code",
   "execution_count": 41,
   "metadata": {},
   "outputs": [],
   "source": [
    "# Setting up connection\n",
    "con = sqlite3.connect(\"./basketball.sqlite\")\n",
    "cur = con.cursor()"
   ]
  },
  {
   "cell_type": "code",
   "execution_count": 42,
   "metadata": {},
   "outputs": [],
   "source": [
    "# Parameters\n",
    "rolling_games = 20\n",
    "season_start = 2001\n",
    "season_end = 2019"
   ]
  },
  {
   "cell_type": "code",
   "execution_count": 45,
   "metadata": {},
   "outputs": [
    {
     "name": "stdout",
     "output_type": "stream",
     "text": [
      "Original Row Count: 22835\n",
      "New Row Count: 20942\n"
     ]
    },
    {
     "data": {
      "text/plain": [
       "Index(['Game_Num_Home', 'SEASON', 'GAME_DATE', 'TEAM_ID_HOME',\n",
       "       'TEAM_ABBREVIATION_HOME', 'TEAM_ABBREVIATION_AWAY', 'FGM_HOME',\n",
       "       'FGA_HOME', 'FG3M_HOME', 'FTM_HOME', 'FTA_HOME', 'OREB_HOME',\n",
       "       'DREB_HOME', 'AST_HOME', 'STL_HOME', 'TOV_HOME', 'PF_HOME', 'PTS_HOME',\n",
       "       'WL_HOME', 'TEAM_ID_AWAY', 'FGM_AWAY', 'FGA_AWAY', 'FG3M_AWAY',\n",
       "       'FTM_AWAY', 'FTA_AWAY', 'OREB_AWAY', 'DREB_AWAY', 'AST_AWAY',\n",
       "       'STL_AWAY', 'TOV_AWAY', 'PF_AWAY', 'PTS_AWAY'],\n",
       "      dtype='object')"
      ]
     },
     "execution_count": 45,
     "metadata": {},
     "output_type": "execute_result"
    }
   ],
   "source": [
    "con.execute('''DROP TABLE IF EXISTS GoodGames''')\n",
    "\n",
    "fullQuery = F'''SELECT DISTINCT ROW_NUMBER() OVER(ORDER BY GAME_DATE) AS Game_Num_Home, SEASON,\n",
    "            GAME_DATE, TEAM_ID_HOME, TEAM_ABBREVIATION_HOME, TEAM_ABBREVIATION_AWAY,\n",
    "            FGM_HOME, FGA_HOME, FG3M_HOME, FTM_HOME, FTA_HOME, OREB_HOME, DREB_HOME, AST_HOME, STL_HOME,\n",
    "            TOV_HOME, PF_HOME, PTS_HOME, WL_HOME, TEAM_ID_AWAY, FGM_AWAY, FGA_AWAY, FG3M_AWAY, FTM_AWAY, FTA_AWAY, OREB_AWAY, DREB_AWAY, \n",
    "            AST_AWAY, STL_AWAY, TOV_AWAY, PF_AWAY, PTS_AWAY\n",
    "    FROM Game\n",
    "    WHERE Season >= {season_start} AND Season <= {season_end}\n",
    "    AND TEAM_CITY_HOME NOT Null\n",
    "    AND WL_HOME NOT Null'''\n",
    "\n",
    "tempDF = pd.read_sql_query(fullQuery,con)\n",
    "originalCount = len(tempDF)\n",
    "floatColumns = ['FGM_HOME', 'FGA_HOME', 'FG3M_HOME', 'FTM_HOME', 'FTA_HOME', 'OREB_HOME', 'DREB_HOME', 'AST_HOME', 'STL_HOME',\n",
    "                'TOV_HOME', 'PF_HOME', 'PTS_HOME', 'FGA_AWAY', 'FGM_AWAY', 'FG3M_AWAY', 'FTM_AWAY', 'FTA_AWAY', 'OREB_AWAY', 'DREB_AWAY',\n",
    "               'AST_AWAY', 'STL_AWAY', 'TOV_AWAY', 'PF_AWAY', 'PTS_AWAY']\n",
    "for col in floatColumns:\n",
    "    tempDF = tempDF[(np.abs(tempDF[col].astype(float) - tempDF[col].astype(float).mean()) <= (3*tempDF[col].astype(float).std()))]\n",
    "print(\"Original Row Count:\", originalCount)\n",
    "print(\"New Row Count:\", len(tempDF))\n",
    "tempDF.to_sql('GoodGames', con);\n",
    "tempDF.columns"
   ]
  },
  {
   "cell_type": "code",
   "execution_count": 46,
   "metadata": {},
   "outputs": [
    {
     "name": "stdout",
     "output_type": "stream",
     "text": [
      " * sqlite:///basketball.sqlite\n",
      "Done.\n",
      "Returning data to local variable nba_game_stats\n"
     ]
    }
   ],
   "source": [
    "%%sql nba_game_stats << SELECT \n",
    "SEASON,\n",
    "GAME_DATE,\n",
    "TEAM_ID_HOME,\n",
    "FGM_HOME,\n",
    "FGA_HOME,\n",
    "FG3M_HOME,\n",
    "FTM_HOME,\n",
    "FTA_HOME,\n",
    "OREB_HOME,\n",
    "DREB_HOME,\n",
    "AST_HOME,\n",
    "STL_HOME,\n",
    "TOV_HOME,\n",
    "PF_HOME,\n",
    "PTS_HOME,\n",
    "CASE\n",
    "    WHEN WL_HOME = 'W'\n",
    "        THEN 1\n",
    "        ELSE 0\n",
    "END AS home_win,\n",
    "TEAM_ID_AWAY,\n",
    "FGM_AWAY,\n",
    "FGA_AWAY,\n",
    "FG3M_AWAY,\n",
    "FTM_AWAY,\n",
    "FTA_AWAY,\n",
    "OREB_AWAY,\n",
    "DREB_AWAY,\n",
    "AST_AWAY,\n",
    "STL_AWAY,\n",
    "TOV_AWAY,\n",
    "PF_AWAY,\n",
    "PTS_AWAY,\n",
    "CASE\n",
    "    WHEN WL_HOME = 'W'\n",
    "        THEN 0\n",
    "        ELSE 1\n",
    "END AS away_win\n",
    "FROM GoodGames \n",
    "WHERE SEASON > 2001 AND SEASON < 2019"
   ]
  },
  {
   "cell_type": "code",
   "execution_count": 47,
   "metadata": {},
   "outputs": [],
   "source": [
    "# Convert to Dataframe and ensure columns are int not object\n",
    "nba_game_df = nba_game_stats.DataFrame()\n",
    "nba_game_df = nba_game_df.astype({'SEASON':'int'})\n",
    "nba_game_df = nba_game_df.astype({'FGA_HOME':'int'})\n",
    "nba_game_df = nba_game_df.astype({'FG3M_HOME':'int'})\n",
    "nba_game_df = nba_game_df.astype({'OREB_HOME':'int'})\n",
    "nba_game_df = nba_game_df.astype({'DREB_HOME':'int'})\n",
    "nba_game_df = nba_game_df.astype({'AST_HOME':'int'})\n",
    "nba_game_df = nba_game_df.astype({'STL_HOME':'int'})\n",
    "nba_game_df = nba_game_df.astype({'TOV_HOME':'int'})\n",
    "nba_game_df = nba_game_df.astype({'FGA_AWAY':'int'})\n",
    "nba_game_df = nba_game_df.astype({'FG3M_AWAY':'int'})\n",
    "nba_game_df = nba_game_df.astype({'OREB_AWAY':'int'})\n",
    "nba_game_df = nba_game_df.astype({'DREB_AWAY':'int'})\n",
    "nba_game_df = nba_game_df.astype({'AST_AWAY':'int'})\n",
    "nba_game_df = nba_game_df.astype({'STL_AWAY':'int'})\n",
    "nba_game_df = nba_game_df.astype({'TOV_AWAY':'int'})\n",
    "nba_game_df['GAME_DATE'] = pd.to_datetime(nba_game_df['GAME_DATE'])"
   ]
  },
  {
   "cell_type": "code",
   "execution_count": 48,
   "metadata": {},
   "outputs": [
    {
     "data": {
      "text/plain": [
       "SEASON                   int64\n",
       "GAME_DATE       datetime64[ns]\n",
       "TEAM_ID_HOME            object\n",
       "FGM_HOME               float64\n",
       "FGA_HOME                 int64\n",
       "FG3M_HOME                int64\n",
       "FTM_HOME               float64\n",
       "FTA_HOME               float64\n",
       "OREB_HOME                int64\n",
       "DREB_HOME                int64\n",
       "AST_HOME                 int64\n",
       "STL_HOME                 int64\n",
       "TOV_HOME                 int64\n",
       "PF_HOME                float64\n",
       "PTS_HOME                 int64\n",
       "home_win                 int64\n",
       "TEAM_ID_AWAY            object\n",
       "FGM_AWAY               float64\n",
       "FGA_AWAY                 int64\n",
       "FG3M_AWAY                int64\n",
       "FTM_AWAY               float64\n",
       "FTA_AWAY               float64\n",
       "OREB_AWAY                int64\n",
       "DREB_AWAY                int64\n",
       "AST_AWAY                 int64\n",
       "STL_AWAY                 int64\n",
       "TOV_AWAY                 int64\n",
       "PF_AWAY                float64\n",
       "PTS_AWAY                 int64\n",
       "away_win                 int64\n",
       "dtype: object"
      ]
     },
     "execution_count": 48,
     "metadata": {},
     "output_type": "execute_result"
    }
   ],
   "source": [
    "# Call outlier detection here to get general game data\n",
    "nba_game_df.columns\n",
    "nba_game_df.dtypes"
   ]
  },
  {
   "cell_type": "code",
   "execution_count": 49,
   "metadata": {},
   "outputs": [],
   "source": [
    "# calculate differentials HOME\n",
    "nba_game_df[\"FGM_HOME_DIFF\"] = nba_game_df[\"FGM_HOME\"] - nba_game_df[\"FGM_AWAY\"]\n",
    "nba_game_df[\"FGA_HOME_DIFF\"] = nba_game_df[\"FGA_HOME\"] - nba_game_df[\"FGA_AWAY\"]\n",
    "nba_game_df[\"FG3M_HOME_DIFF\"] = nba_game_df[\"FG3M_HOME\"] - nba_game_df[\"FG3M_AWAY\"]\n",
    "nba_game_df[\"FTM_HOME_DIFF\"] = nba_game_df[\"FTM_HOME\"] - nba_game_df[\"FTM_AWAY\"]\n",
    "nba_game_df[\"FTA_HOME_DIFF\"] = nba_game_df[\"FTA_HOME\"] - nba_game_df[\"FTA_AWAY\"]\n",
    "nba_game_df[\"OREB_HOME_DIFF\"] = nba_game_df[\"OREB_HOME\"] - nba_game_df[\"OREB_AWAY\"]\n",
    "nba_game_df[\"DREB_HOME_DIFF\"] = nba_game_df[\"DREB_HOME\"] - nba_game_df[\"DREB_AWAY\"]\n",
    "nba_game_df[\"AST_HOME_DIFF\"] = nba_game_df[\"AST_HOME\"] - nba_game_df[\"AST_AWAY\"]\n",
    "nba_game_df[\"STL_HOME_DIFF\"] = nba_game_df[\"STL_HOME\"] - nba_game_df[\"STL_AWAY\"]\n",
    "nba_game_df[\"TOV_HOME_DIFF\"] = nba_game_df[\"TOV_HOME\"] - nba_game_df[\"TOV_AWAY\"]\n",
    "nba_game_df[\"PF_HOME_DIFF\"] = nba_game_df[\"PF_HOME\"] - nba_game_df[\"PF_AWAY\"]\n",
    "nba_game_df[\"PTS_HOME_DIFF\"] = nba_game_df[\"PTS_HOME\"] - nba_game_df[\"PTS_AWAY\"]\n",
    "# calculate differentials AWAY\n",
    "nba_game_df[\"FGM_AWAY_DIFF\"] = nba_game_df[\"FGM_AWAY\"] - nba_game_df[\"FGM_HOME\"]\n",
    "nba_game_df[\"FGA_AWAY_DIFF\"] = nba_game_df[\"FGA_AWAY\"] - nba_game_df[\"FGA_HOME\"]\n",
    "nba_game_df[\"FG3M_AWAY_DIFF\"] = nba_game_df[\"FG3M_AWAY\"] - nba_game_df[\"FG3M_HOME\"]\n",
    "nba_game_df[\"FTM_AWAY_DIFF\"] = nba_game_df[\"FTM_AWAY\"] - nba_game_df[\"FTM_HOME\"]\n",
    "nba_game_df[\"FTA_AWAY_DIFF\"] = nba_game_df[\"FTA_AWAY\"] - nba_game_df[\"FTA_HOME\"]\n",
    "nba_game_df[\"OREB_AWAY_DIFF\"] = nba_game_df[\"OREB_AWAY\"] - nba_game_df[\"OREB_HOME\"]\n",
    "nba_game_df[\"DREB_AWAY_DIFF\"] = nba_game_df[\"DREB_AWAY\"] - nba_game_df[\"DREB_HOME\"]\n",
    "nba_game_df[\"AST_AWAY_DIFF\"] = nba_game_df[\"AST_AWAY\"] - nba_game_df[\"AST_HOME\"]\n",
    "nba_game_df[\"STL_AWAY_DIFF\"] = nba_game_df[\"STL_AWAY\"] - nba_game_df[\"STL_HOME\"]\n",
    "nba_game_df[\"TOV_AWAY_DIFF\"] = nba_game_df[\"TOV_AWAY\"] - nba_game_df[\"TOV_HOME\"]\n",
    "nba_game_df[\"PF_AWAY_DIFF\"] = nba_game_df[\"PF_AWAY\"] - nba_game_df[\"PF_HOME\"]\n",
    "nba_game_df[\"PTS_AWAY_DIFF\"] = nba_game_df[\"PTS_AWAY\"] - nba_game_df[\"PTS_HOME\"]"
   ]
  },
  {
   "cell_type": "code",
   "execution_count": 50,
   "metadata": {},
   "outputs": [],
   "source": [
    "# split into home and away dfs pulling only differential stats\n",
    "nba_home_df = nba_game_df[[\"SEASON\", \"GAME_DATE\", \"TEAM_ID_HOME\", \"FGM_HOME_DIFF\", \"FGA_HOME_DIFF\", \"FG3M_HOME_DIFF\", \n",
    "                           \"FTM_HOME_DIFF\", \"FTA_HOME_DIFF\", \"OREB_HOME_DIFF\", \"DREB_HOME_DIFF\", \"AST_HOME_DIFF\",\n",
    "                          \"STL_HOME_DIFF\", \"TOV_HOME_DIFF\", \"PF_HOME_DIFF\", \"PTS_HOME_DIFF\", \"home_win\"]]\n",
    "nba_away_df = nba_game_df[[\"SEASON\", \"GAME_DATE\", \"TEAM_ID_AWAY\", \"FGM_AWAY_DIFF\", \"FGA_AWAY_DIFF\", \"FG3M_AWAY_DIFF\", \n",
    "                           \"FTM_AWAY_DIFF\", \"FTA_AWAY_DIFF\", \"OREB_AWAY_DIFF\", \"DREB_AWAY_DIFF\", \"AST_AWAY_DIFF\",\n",
    "                          \"STL_AWAY_DIFF\", \"TOV_AWAY_DIFF\", \"PF_AWAY_DIFF\", \"PTS_AWAY_DIFF\", \"away_win\"]]"
   ]
  },
  {
   "cell_type": "code",
   "execution_count": 51,
   "metadata": {},
   "outputs": [
    {
     "name": "stderr",
     "output_type": "stream",
     "text": [
      "<ipython-input-51-94fff2ebda80>:2: SettingWithCopyWarning: \n",
      "A value is trying to be set on a copy of a slice from a DataFrame.\n",
      "Try using .loc[row_indexer,col_indexer] = value instead\n",
      "\n",
      "See the caveats in the documentation: https://pandas.pydata.org/pandas-docs/stable/user_guide/indexing.html#returning-a-view-versus-a-copy\n",
      "  nba_home_df[\"HOME_GAME\"] = 1\n",
      "<ipython-input-51-94fff2ebda80>:3: SettingWithCopyWarning: \n",
      "A value is trying to be set on a copy of a slice from a DataFrame.\n",
      "Try using .loc[row_indexer,col_indexer] = value instead\n",
      "\n",
      "See the caveats in the documentation: https://pandas.pydata.org/pandas-docs/stable/user_guide/indexing.html#returning-a-view-versus-a-copy\n",
      "  nba_away_df[\"HOME_GAME\"] = 0\n",
      "/Library/Frameworks/Python.framework/Versions/3.8/lib/python3.8/site-packages/pandas/core/frame.py:4296: SettingWithCopyWarning: \n",
      "A value is trying to be set on a copy of a slice from a DataFrame\n",
      "\n",
      "See the caveats in the documentation: https://pandas.pydata.org/pandas-docs/stable/user_guide/indexing.html#returning-a-view-versus-a-copy\n",
      "  return super().rename(\n"
     ]
    }
   ],
   "source": [
    "# add column to specify home or away game for each df\n",
    "nba_home_df[\"HOME_GAME\"] = 1\n",
    "nba_away_df[\"HOME_GAME\"] = 0\n",
    "\n",
    "# rename win column to be the same in both dfs\n",
    "nba_home_df.rename(columns = {\"TEAM_ID_HOME\": \"TEAM_ID\", \"FGM_HOME_DIFF\": \"FGM_DIFF\", \"FGA_HOME_DIFF\": \"FGA_DIFF\", \n",
    "                              \"FG3M_HOME_DIFF\":\"FG3M_DIFF\", \"FTM_HOME_DIFF\":\"FTM_DIFF\", \"FTA_HOME_DIFF\":\"FTA_DIFF\",\n",
    "                              \"OREB_HOME_DIFF\":\"OREB_DIFF\", \"DREB_HOME_DIFF\":\"DREB_DIFF\", \"AST_HOME_DIFF\":\"AST_DIFF\",\n",
    "                              \"STL_HOME_DIFF\":\"STL_DIFF\", \"TOV_HOME_DIFF\":\"TOV_DIFF\", \"PF_HOME_DIFF\":\"PF_DIFF\", \n",
    "                              \"PTS_HOME_DIFF\":\"PTS_DIFF\", \"home_win\":\"WIN\"}, inplace = True)\n",
    "nba_away_df.rename(columns = {\"TEAM_ID_AWAY\": \"TEAM_ID\", \"FGM_AWAY_DIFF\": \"FGM_DIFF\", \"FGA_AWAY_DIFF\": \"FGA_DIFF\", \n",
    "                              \"FG3M_AWAY_DIFF\":\"FG3M_DIFF\", \"FTM_AWAY_DIFF\":\"FTM_DIFF\", \"FTA_AWAY_DIFF\":\"FTA_DIFF\",\n",
    "                              \"OREB_AWAY_DIFF\":\"OREB_DIFF\", \"DREB_AWAY_DIFF\":\"DREB_DIFF\", \"AST_AWAY_DIFF\":\"AST_DIFF\",\n",
    "                              \"STL_AWAY_DIFF\":\"STL_DIFF\", \"TOV_AWAY_DIFF\":\"TOV_DIFF\", \"PF_AWAY_DIFF\":\"PF_DIFF\", \n",
    "                              \"PTS_AWAY_DIFF\":\"PTS_DIFF\", \"away_win\":\"WIN\"}, inplace = True)"
   ]
  },
  {
   "cell_type": "code",
   "execution_count": 52,
   "metadata": {},
   "outputs": [
    {
     "name": "stdout",
     "output_type": "stream",
     "text": [
      "(19008, 17)\n",
      "(19008, 17)\n",
      "(38016, 17)\n"
     ]
    }
   ],
   "source": [
    "# combine both dfs into a df with differential stats for each team and their win or loss\n",
    "nba_combined_df = pd.concat([nba_home_df, nba_away_df])\n",
    "print(nba_home_df.shape)\n",
    "print(nba_away_df.shape)\n",
    "print(nba_combined_df.shape)"
   ]
  },
  {
   "cell_type": "code",
   "execution_count": 53,
   "metadata": {},
   "outputs": [
    {
     "name": "stdout",
     "output_type": "stream",
     "text": [
      "   SEASON  GAME_DATE     TEAM_ID  FGM_DIFF  FGA_DIFF  FG3M_DIFF  FTM_DIFF  \\\n",
      "0    2002 2002-10-29  1610612753       5.0         3          4      -7.0   \n",
      "1    2002 2002-10-29  1610612758       9.0        -3          5       4.0   \n",
      "2    2002 2002-10-30  1610612754       6.0         4          1      -4.0   \n",
      "3    2002 2002-10-30  1610612751       3.0         3         -2       7.0   \n",
      "4    2002 2002-10-30  1610612757       4.0         0         -2       6.0   \n",
      "\n",
      "   FTA_DIFF  OREB_DIFF  DREB_DIFF  AST_DIFF  STL_DIFF  TOV_DIFF  PF_DIFF  \\\n",
      "0     -10.0         -3         -4         5        -6        -5      4.0   \n",
      "1       3.0         -2          4         7         5        -4     -1.0   \n",
      "2       1.0          2         -2         9         5        -1      6.0   \n",
      "3       7.0          6          7         3        -5        -3     -4.0   \n",
      "4      13.0          4          1        -1         6        -4     -1.0   \n",
      "\n",
      "   PTS_DIFF  WIN  HOME_GAME  \n",
      "0         7    1          1  \n",
      "1        27    1          1  \n",
      "2         9    1          1  \n",
      "3        11    1          1  \n",
      "4        12    1          1  \n",
      "    SEASON  GAME_DATE     TEAM_ID  FGM_DIFF  FGA_DIFF  FG3M_DIFF  FTM_DIFF  \\\n",
      "3     2002 2002-10-30  1610612737      -3.0        -3          2      -7.0   \n",
      "16    2002 2002-10-31  1610612737       6.0        -1         -1      -4.0   \n",
      "31    2002 2002-11-02  1610612737      -1.0       -12          1       7.0   \n",
      "45    2002 2002-11-05  1610612737       8.0        -7          2      -2.0   \n",
      "55    2002 2002-11-06  1610612737      -2.0        -2          0      -1.0   \n",
      "\n",
      "    FTA_DIFF  OREB_DIFF  DREB_DIFF  AST_DIFF  STL_DIFF  TOV_DIFF  PF_DIFF  \\\n",
      "3       -7.0         -6         -7        -3         5         3      4.0   \n",
      "16      -3.0         -2          5         3        -3         2      2.0   \n",
      "31       5.0          0          4        10        -8         9     -5.0   \n",
      "45      -5.0         -3         13         8         3         6      7.0   \n",
      "55       1.0          6          3        -9         2         5      3.0   \n",
      "\n",
      "    PTS_DIFF  WIN  HOME_GAME  \n",
      "3        -11    0          0  \n",
      "16         7    1          1  \n",
      "31         6    1          1  \n",
      "45        16    1          0  \n",
      "55        -5    0          0  \n"
     ]
    }
   ],
   "source": [
    "# sort combined df by team and date\n",
    "print(nba_combined_df.head())\n",
    "nba_combined_df.sort_values(by=['TEAM_ID', 'GAME_DATE'], inplace=True)\n",
    "print(nba_combined_df.head())"
   ]
  },
  {
   "cell_type": "code",
   "execution_count": 54,
   "metadata": {},
   "outputs": [],
   "source": [
    "# save data to csv file\n",
    "# only used seasons 2002-2018 to take out the bubble season\n",
    "nba_combined_df.to_csv(\"../../data/LSTMGamesStandardized.csv\", index=False)"
   ]
  },
  {
   "cell_type": "code",
   "execution_count": null,
   "metadata": {},
   "outputs": [],
   "source": []
  }
 ],
 "metadata": {
  "kernelspec": {
   "display_name": "Python 3",
   "language": "python",
   "name": "python3"
  },
  "language_info": {
   "codemirror_mode": {
    "name": "ipython",
    "version": 3
   },
   "file_extension": ".py",
   "mimetype": "text/x-python",
   "name": "python",
   "nbconvert_exporter": "python",
   "pygments_lexer": "ipython3",
   "version": "3.8.5"
  }
 },
 "nbformat": 4,
 "nbformat_minor": 4
}
