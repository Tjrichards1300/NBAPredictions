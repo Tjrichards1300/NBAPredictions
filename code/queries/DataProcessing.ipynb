{
 "cells": [
  {
   "cell_type": "code",
   "execution_count": 39,
   "metadata": {},
   "outputs": [],
   "source": [
    "import zipfile, io, json, os\n",
    "from kaggle.api.kaggle_api_extended import KaggleApi\n",
    "import pandas as pd"
   ]
  },
  {
   "cell_type": "code",
   "execution_count": 2,
   "metadata": {},
   "outputs": [],
   "source": [
    "files = [f for f in os.listdir('.') if os.path.isfile(f)]\n",
    "if 'basketball.zip' not in files and 'basketball.sqlite' not in files:\n",
    "        api = KaggleApi()\n",
    "        #config_dir = os.getcwd()\n",
    "        #config_file = 'kaggle.json'\n",
    "        #api.config = os.path.join(config_dir, config_file)\n",
    "        api.authenticate()\n",
    "        api.dataset_download_files('wyattowalsh/basketball') #downloads to cwd\n",
    "elif 'basketball.zip' in files and 'basketball.sqlite' not in files:\n",
    "    with zipfile.ZipFile('basketball.zip', 'r') as zip_ref:\n",
    "        zip_ref.extractall()\n",
    "    os.remove('daily_execution_pipeline.yml')\n",
    "    os.remove('monthly_execution_pipeline.yml')\n",
    "\n",
    "if 'basketball.sqlite' in files:\n",
    "    %load_ext sql\n",
    "    %sql sqlite:///basketball.sqlite"
   ]
  },
  {
   "cell_type": "code",
   "execution_count": 102,
   "metadata": {},
   "outputs": [
    {
     "name": "stdout",
     "output_type": "stream",
     "text": [
      " * sqlite:///basketball.sqlite\n",
      "Done.\n",
      "Returning data to local variable nba_home_stats\n"
     ]
    }
   ],
   "source": [
    "%%sql nba_home_stats << SELECT \n",
    "TEAM_ID_HOME,\n",
    "SEASON,\n",
    "AVG(FGM_HOME) AS FGM_HOME,\n",
    "AVG(FGA_HOME)  AS FGA_HOME,\n",
    "AVG(FG3M_HOME) AS FG3M_HOME,\n",
    "AVG(FTM_HOME) AS FTM_HOME,\n",
    "AVG(FTA_HOME) AS FTA_HOME,\n",
    "AVG(OREB_HOME) AS OREB_HOME,\n",
    "AVG(DREB_HOME) AS DREB_HOME,\n",
    "AVG(AST_HOME) AS AST_HOME,\n",
    "AVG(STL_HOME) AS STL_HOME,\n",
    "AVG(TOV_HOME) AS TOV_HOME,\n",
    "AVG(PF_HOME) AS PF_HOME,\n",
    "AVG(PTS_HOME) AS PTS_HOME\n",
    "FROM Game WHERE SEASON > 2001 AND SEASON < 2020\n",
    "GROUP BY TEAM_ID_HOME, SEASON"
   ]
  },
  {
   "cell_type": "code",
   "execution_count": 103,
   "metadata": {},
   "outputs": [],
   "source": [
    "# Convert to Dataframe and ensure season is int not object\n",
    "nba_home_df = nba_home_stats.DataFrame()\n",
    "nba_home_df = nba_home_df.astype({'SEASON':'int'})"
   ]
  },
  {
   "cell_type": "code",
   "execution_count": 133,
   "metadata": {},
   "outputs": [
    {
     "name": "stdout",
     "output_type": "stream",
     "text": [
      " * sqlite:///basketball.sqlite\n",
      "Done.\n",
      "Returning data to local variable nba_away_stats\n"
     ]
    }
   ],
   "source": [
    "%%sql nba_away_stats << SELECT \n",
    "TEAM_ID_AWAY,\n",
    "SEASON,\n",
    "AVG(FGM_AWAY) AS FGM_AWAY, \n",
    "AVG(FGA_AWAY) AS FGA_AWAY, \n",
    "AVG(FG3M_AWAY) AS FG3M_AWAY, \n",
    "AVG(FTM_AWAY) AS FTM_AWAY, \n",
    "AVG(FTA_AWAY) AS FTA_AWAY, \n",
    "AVG(OREB_AWAY) AS OREB_AWAY, \n",
    "AVG(DREB_AWAY) AS DREB_AWAY, \n",
    "AVG(AST_AWAY) AS AST_AWAY, \n",
    "AVG(STL_AWAY) AS STL_AWAY, \n",
    "AVG(TOV_AWAY) AS TOV_AWAY, \n",
    "AVG(PF_AWAY) AS PF_AWAY, \n",
    "AVG(PTS_AWAY)  AS PTS_AWAY \n",
    "FROM Game WHERE SEASON > 2001 AND SEASON < 2020\n",
    "GROUP BY TEAM_ID_AWAY, SEASON"
   ]
  },
  {
   "cell_type": "code",
   "execution_count": 105,
   "metadata": {},
   "outputs": [],
   "source": [
    "# Convert to Dataframe and ensure season is int not object\n",
    "nba_away_df = nba_away_stats.DataFrame()\n",
    "nba_away_df = nba_away_df.astype({'SEASON':'int'})"
   ]
  },
  {
   "cell_type": "code",
   "execution_count": 106,
   "metadata": {},
   "outputs": [],
   "source": [
    "# Adding a season match column to be used for merging with game data\n",
    "nba_home_df['SEASON_Match'] = nba_home_df['SEASON'] + 1\n",
    "nba_away_df['SEASON_Match'] = nba_away_df['SEASON'] + 1"
   ]
  },
  {
   "cell_type": "code",
   "execution_count": 107,
   "metadata": {},
   "outputs": [
    {
     "name": "stdout",
     "output_type": "stream",
     "text": [
      " * sqlite:///basketball.sqlite\n",
      "Done.\n",
      "Returning data to local variable nba_games\n"
     ]
    }
   ],
   "source": [
    "%%sql nba_games << SELECT\n",
    "TEAM_ID_HOME, \n",
    "TEAM_ID_AWAY,\n",
    "SEASON,\n",
    "CASE\n",
    "    WHEN WL_HOME = 'W'\n",
    "    THEN 1\n",
    "    ELSE 0\n",
    "    END AS home_win\n",
    "FROM GAME\n",
    "WHERE GAME_STATUS_TEXT is 'Final'\n",
    "AND SEASON > 2002 \n",
    "AND SEASON < 2020"
   ]
  },
  {
   "cell_type": "code",
   "execution_count": 108,
   "metadata": {},
   "outputs": [],
   "source": [
    "nba_games_df = nba_games.DataFrame()\n",
    "nba_games_df = nba_games_df.astype({'SEASON':'int'})"
   ]
  },
  {
   "cell_type": "code",
   "execution_count": 109,
   "metadata": {},
   "outputs": [
    {
     "data": {
      "text/html": [
       "<div>\n",
       "<style scoped>\n",
       "    .dataframe tbody tr th:only-of-type {\n",
       "        vertical-align: middle;\n",
       "    }\n",
       "\n",
       "    .dataframe tbody tr th {\n",
       "        vertical-align: top;\n",
       "    }\n",
       "\n",
       "    .dataframe thead th {\n",
       "        text-align: right;\n",
       "    }\n",
       "</style>\n",
       "<table border=\"1\" class=\"dataframe\">\n",
       "  <thead>\n",
       "    <tr style=\"text-align: right;\">\n",
       "      <th></th>\n",
       "      <th>TEAM_ID_HOME</th>\n",
       "      <th>TEAM_ID_AWAY</th>\n",
       "      <th>SEASON</th>\n",
       "      <th>home_win</th>\n",
       "    </tr>\n",
       "  </thead>\n",
       "  <tbody>\n",
       "    <tr>\n",
       "      <th>0</th>\n",
       "      <td>1610612759</td>\n",
       "      <td>1610612756</td>\n",
       "      <td>2003</td>\n",
       "      <td>1</td>\n",
       "    </tr>\n",
       "    <tr>\n",
       "      <th>1</th>\n",
       "      <td>1610612747</td>\n",
       "      <td>1610612742</td>\n",
       "      <td>2003</td>\n",
       "      <td>1</td>\n",
       "    </tr>\n",
       "    <tr>\n",
       "      <th>2</th>\n",
       "      <td>1610612755</td>\n",
       "      <td>1610612748</td>\n",
       "      <td>2003</td>\n",
       "      <td>1</td>\n",
       "    </tr>\n",
       "    <tr>\n",
       "      <th>3</th>\n",
       "      <td>1610612740</td>\n",
       "      <td>1610612737</td>\n",
       "      <td>2003</td>\n",
       "      <td>1</td>\n",
       "    </tr>\n",
       "    <tr>\n",
       "      <th>4</th>\n",
       "      <td>1610612762</td>\n",
       "      <td>1610612757</td>\n",
       "      <td>2003</td>\n",
       "      <td>1</td>\n",
       "    </tr>\n",
       "  </tbody>\n",
       "</table>\n",
       "</div>"
      ],
      "text/plain": [
       "  TEAM_ID_HOME TEAM_ID_AWAY  SEASON  home_win\n",
       "0   1610612759   1610612756    2003         1\n",
       "1   1610612747   1610612742    2003         1\n",
       "2   1610612755   1610612748    2003         1\n",
       "3   1610612740   1610612737    2003         1\n",
       "4   1610612762   1610612757    2003         1"
      ]
     },
     "execution_count": 138,
     "metadata": {},
     "output_type": "execute_result"
    }
   ],
   "source": [
    "nba_games_df.head()"
   ]
  },
  {
   "cell_type": "code",
   "execution_count": 110,
   "metadata": {},
   "outputs": [],
   "source": [
    "# Get the non_duplicated Columns\n",
    "unique_cols_home = nba_home_df.columns.difference(nba_games_df.columns)\n",
    "unique_cols_away = nba_away_df.columns.difference(nba_games_df.columns)\n",
    "\n",
    "# Merge Games list with home and away previous season stats\n",
    "nba_games_df = pd.merge(nba_games_df,nba_home_df.drop(columns='SEASON'),how='inner',left_on=['TEAM_ID_HOME','SEASON'], right_on=['TEAM_ID_HOME','SEASON_Match'])\n",
    "nba_games_df = pd.merge(nba_games_df,nba_away_df.drop(columns='SEASON'),how='inner',left_on=['TEAM_ID_AWAY','SEASON'], right_on=['TEAM_ID_AWAY','SEASON_Match'])"
   ]
  },
  {
   "cell_type": "code",
   "execution_count": 111,
   "metadata": {},
   "outputs": [
    {
     "data": {
      "text/html": [
       "<div>\n",
       "<style scoped>\n",
       "    .dataframe tbody tr th:only-of-type {\n",
       "        vertical-align: middle;\n",
       "    }\n",
       "\n",
       "    .dataframe tbody tr th {\n",
       "        vertical-align: top;\n",
       "    }\n",
       "\n",
       "    .dataframe thead th {\n",
       "        text-align: right;\n",
       "    }\n",
       "</style>\n",
       "<table border=\"1\" class=\"dataframe\">\n",
       "  <thead>\n",
       "    <tr style=\"text-align: right;\">\n",
       "      <th></th>\n",
       "      <th>TEAM_ID_HOME</th>\n",
       "      <th>TEAM_ID_AWAY</th>\n",
       "      <th>SEASON</th>\n",
       "      <th>home_win</th>\n",
       "      <th>FGM_HOME</th>\n",
       "      <th>FGA_HOME</th>\n",
       "      <th>FG3M_HOME</th>\n",
       "      <th>FTM_HOME</th>\n",
       "      <th>FTA_HOME</th>\n",
       "      <th>OREB_HOME</th>\n",
       "      <th>...</th>\n",
       "      <th>FTM_AWAY</th>\n",
       "      <th>FTA_AWAY</th>\n",
       "      <th>OREB_AWAY</th>\n",
       "      <th>DREB_AWAY</th>\n",
       "      <th>AST_AWAY</th>\n",
       "      <th>STL_AWAY</th>\n",
       "      <th>TOV_AWAY</th>\n",
       "      <th>PF_AWAY</th>\n",
       "      <th>PTS_AWAY</th>\n",
       "      <th>SEASON_Match_y</th>\n",
       "    </tr>\n",
       "  </thead>\n",
       "  <tbody>\n",
       "    <tr>\n",
       "      <th>0</th>\n",
       "      <td>1610612759</td>\n",
       "      <td>1610612756</td>\n",
       "      <td>2003</td>\n",
       "      <td>1</td>\n",
       "      <td>35.853659</td>\n",
       "      <td>77.317073</td>\n",
       "      <td>5.536585</td>\n",
       "      <td>19.439024</td>\n",
       "      <td>27.146341</td>\n",
       "      <td>11.853659</td>\n",
       "      <td>...</td>\n",
       "      <td>16.560976</td>\n",
       "      <td>23.390244</td>\n",
       "      <td>13.04878</td>\n",
       "      <td>29.146341</td>\n",
       "      <td>19.780488</td>\n",
       "      <td>8.170732</td>\n",
       "      <td>15.268293</td>\n",
       "      <td>22.731707</td>\n",
       "      <td>93.780488</td>\n",
       "      <td>2003</td>\n",
       "    </tr>\n",
       "    <tr>\n",
       "      <th>1</th>\n",
       "      <td>1610612759</td>\n",
       "      <td>1610612756</td>\n",
       "      <td>2003</td>\n",
       "      <td>1</td>\n",
       "      <td>35.853659</td>\n",
       "      <td>77.317073</td>\n",
       "      <td>5.536585</td>\n",
       "      <td>19.439024</td>\n",
       "      <td>27.146341</td>\n",
       "      <td>11.853659</td>\n",
       "      <td>...</td>\n",
       "      <td>16.560976</td>\n",
       "      <td>23.390244</td>\n",
       "      <td>13.04878</td>\n",
       "      <td>29.146341</td>\n",
       "      <td>19.780488</td>\n",
       "      <td>8.170732</td>\n",
       "      <td>15.268293</td>\n",
       "      <td>22.731707</td>\n",
       "      <td>93.780488</td>\n",
       "      <td>2003</td>\n",
       "    </tr>\n",
       "    <tr>\n",
       "      <th>2</th>\n",
       "      <td>1610612747</td>\n",
       "      <td>1610612756</td>\n",
       "      <td>2003</td>\n",
       "      <td>1</td>\n",
       "      <td>38.809524</td>\n",
       "      <td>84.500000</td>\n",
       "      <td>6.190476</td>\n",
       "      <td>18.809524</td>\n",
       "      <td>25.976190</td>\n",
       "      <td>13.714286</td>\n",
       "      <td>...</td>\n",
       "      <td>16.560976</td>\n",
       "      <td>23.390244</td>\n",
       "      <td>13.04878</td>\n",
       "      <td>29.146341</td>\n",
       "      <td>19.780488</td>\n",
       "      <td>8.170732</td>\n",
       "      <td>15.268293</td>\n",
       "      <td>22.731707</td>\n",
       "      <td>93.780488</td>\n",
       "      <td>2003</td>\n",
       "    </tr>\n",
       "    <tr>\n",
       "      <th>3</th>\n",
       "      <td>1610612747</td>\n",
       "      <td>1610612756</td>\n",
       "      <td>2003</td>\n",
       "      <td>0</td>\n",
       "      <td>38.809524</td>\n",
       "      <td>84.500000</td>\n",
       "      <td>6.190476</td>\n",
       "      <td>18.809524</td>\n",
       "      <td>25.976190</td>\n",
       "      <td>13.714286</td>\n",
       "      <td>...</td>\n",
       "      <td>16.560976</td>\n",
       "      <td>23.390244</td>\n",
       "      <td>13.04878</td>\n",
       "      <td>29.146341</td>\n",
       "      <td>19.780488</td>\n",
       "      <td>8.170732</td>\n",
       "      <td>15.268293</td>\n",
       "      <td>22.731707</td>\n",
       "      <td>93.780488</td>\n",
       "      <td>2003</td>\n",
       "    </tr>\n",
       "    <tr>\n",
       "      <th>4</th>\n",
       "      <td>1610612755</td>\n",
       "      <td>1610612756</td>\n",
       "      <td>2003</td>\n",
       "      <td>1</td>\n",
       "      <td>36.166667</td>\n",
       "      <td>81.119048</td>\n",
       "      <td>3.095238</td>\n",
       "      <td>22.904762</td>\n",
       "      <td>29.404762</td>\n",
       "      <td>13.238095</td>\n",
       "      <td>...</td>\n",
       "      <td>16.560976</td>\n",
       "      <td>23.390244</td>\n",
       "      <td>13.04878</td>\n",
       "      <td>29.146341</td>\n",
       "      <td>19.780488</td>\n",
       "      <td>8.170732</td>\n",
       "      <td>15.268293</td>\n",
       "      <td>22.731707</td>\n",
       "      <td>93.780488</td>\n",
       "      <td>2003</td>\n",
       "    </tr>\n",
       "  </tbody>\n",
       "</table>\n",
       "<p>5 rows × 30 columns</p>\n",
       "</div>"
      ],
      "text/plain": [
       "  TEAM_ID_HOME TEAM_ID_AWAY  SEASON  home_win   FGM_HOME   FGA_HOME  \\\n",
       "0   1610612759   1610612756    2003         1  35.853659  77.317073   \n",
       "1   1610612759   1610612756    2003         1  35.853659  77.317073   \n",
       "2   1610612747   1610612756    2003         1  38.809524  84.500000   \n",
       "3   1610612747   1610612756    2003         0  38.809524  84.500000   \n",
       "4   1610612755   1610612756    2003         1  36.166667  81.119048   \n",
       "\n",
       "   FG3M_HOME   FTM_HOME   FTA_HOME  OREB_HOME  ...   FTM_AWAY   FTA_AWAY  \\\n",
       "0   5.536585  19.439024  27.146341  11.853659  ...  16.560976  23.390244   \n",
       "1   5.536585  19.439024  27.146341  11.853659  ...  16.560976  23.390244   \n",
       "2   6.190476  18.809524  25.976190  13.714286  ...  16.560976  23.390244   \n",
       "3   6.190476  18.809524  25.976190  13.714286  ...  16.560976  23.390244   \n",
       "4   3.095238  22.904762  29.404762  13.238095  ...  16.560976  23.390244   \n",
       "\n",
       "   OREB_AWAY  DREB_AWAY   AST_AWAY  STL_AWAY   TOV_AWAY    PF_AWAY   PTS_AWAY  \\\n",
       "0   13.04878  29.146341  19.780488  8.170732  15.268293  22.731707  93.780488   \n",
       "1   13.04878  29.146341  19.780488  8.170732  15.268293  22.731707  93.780488   \n",
       "2   13.04878  29.146341  19.780488  8.170732  15.268293  22.731707  93.780488   \n",
       "3   13.04878  29.146341  19.780488  8.170732  15.268293  22.731707  93.780488   \n",
       "4   13.04878  29.146341  19.780488  8.170732  15.268293  22.731707  93.780488   \n",
       "\n",
       "   SEASON_Match_y  \n",
       "0            2003  \n",
       "1            2003  \n",
       "2            2003  \n",
       "3            2003  \n",
       "4            2003  \n",
       "\n",
       "[5 rows x 30 columns]"
      ]
     },
     "execution_count": 140,
     "metadata": {},
     "output_type": "execute_result"
    }
   ],
   "source": [
    "nba_games_df.head()"
   ]
  },
  {
   "cell_type": "code",
   "execution_count": 116,
   "metadata": {},
   "outputs": [],
   "source": [
    "# Create X and y without non feature columns\n",
    "non_feature_cols = ['TEAM_ID_HOME', 'TEAM_ID_AWAY', 'SEASON', 'SEASON_Match_x', 'SEASON_Match_y','SEASON', 'home_win']\n",
    "X = nba_games_df.drop(columns=non_feature_cols)\n",
    "y = nba_games_df['home_win']"
   ]
  },
  {
   "cell_type": "code",
   "execution_count": 119,
   "metadata": {},
   "outputs": [
    {
     "data": {
      "text/plain": [
       "((20436, 26), (20436,))"
      ]
     },
     "execution_count": 119,
     "metadata": {},
     "output_type": "execute_result"
    }
   ],
   "source": [
    "X.shape, y.shape"
   ]
  },
  {
   "cell_type": "code",
   "execution_count": 149,
   "metadata": {},
   "outputs": [],
   "source": [
    "import numpy as np\n",
    "nba_data = np.genfromtxt(\"./data/nba_games.csv\", delimiter=',',skip_header=1)\n",
    "X = nba_data[:,1:]\n",
    "y = nba_data[:,0]"
   ]
  },
  {
   "cell_type": "code",
   "execution_count": 153,
   "metadata": {},
   "outputs": [
    {
     "data": {
      "text/plain": [
       "array([[ 96.68292683,  93.7804878 ],\n",
       "       [ 96.68292683,  93.7804878 ],\n",
       "       [102.61904762,  93.7804878 ],\n",
       "       ...,\n",
       "       [115.7804878 , 107.34146341],\n",
       "       [114.63414634, 107.34146341],\n",
       "       [116.41463415, 107.34146341]])"
      ]
     },
     "execution_count": 153,
     "metadata": {},
     "output_type": "execute_result"
    }
   ],
   "source": [
    "X[:,[11,23]]"
   ]
  },
  {
   "cell_type": "code",
   "execution_count": 154,
   "metadata": {},
   "outputs": [],
   "source": [
    "import matplotlib.pyplot as plt"
   ]
  },
  {
   "cell_type": "code",
   "execution_count": 166,
   "metadata": {},
   "outputs": [],
   "source": [
    "colors = np.where(y==1,'b','g')"
   ]
  },
  {
   "cell_type": "code",
   "execution_count": 168,
   "metadata": {},
   "outputs": [
    {
     "data": {
      "text/plain": [
       "Text(0, 0.5, 'Away Points')"
      ]
     },
     "execution_count": 168,
     "metadata": {},
     "output_type": "execute_result"
    },
    {
     "data": {
      "image/png": "[encoded data removed]",
      "text/plain": [
       "<Figure size 432x288 with 1 Axes>"
      ]
     },
     "metadata": {
      "needs_background": "light"
     },
     "output_type": "display_data"
    }
   ],
   "source": [
    "plt.scatter(X[:,11],X[:,23],c=colors)\n",
    "plt.xlabel(\"Home Points\")\n",
    "plt.ylabel(\"Away Points\")\n"
   ]
  },
  {
   "cell_type": "code",
   "execution_count": null,
   "metadata": {},
   "outputs": [],
   "source": []
  }
 ],
 "metadata": {
  "kernelspec": {
   "display_name": "Python 3",
   "language": "python",
   "name": "python3"
  },
  "language_info": {
   "codemirror_mode": {
    "name": "ipython",
    "version": 3
   },
   "file_extension": ".py",
   "mimetype": "text/x-python",
   "name": "python",
   "nbconvert_exporter": "python",
   "pygments_lexer": "ipython3",
   "version": "3.8.5"
  },
  "vscode": {
   "interpreter": {
    "hash": "41bc4b094a62ff733f8520e4744d51ab92960dd76cbbabda77fc646586ef77c8"
   }
  }
 },
 "nbformat": 4,
 "nbformat_minor": 5
}
