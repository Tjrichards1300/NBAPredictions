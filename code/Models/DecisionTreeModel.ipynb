{
 "cells": [
  {
   "cell_type": "code",
   "execution_count": 1,
   "metadata": {},
   "outputs": [],
   "source": [
    "file_names = [\"Rolling3Games.csv\", \"Rolling5Games.csv\", \"Rolling9Games.csv\", \"Rolling15Games.csv\", \"Rolling20Games.csv\"]"
   ]
  },
  {
   "cell_type": "code",
   "execution_count": 2,
   "metadata": {},
   "outputs": [],
   "source": [
    "import pandas as pd\n",
    "import numpy as np\n",
    "import matplotlib.pyplot as plt\n",
    "from sklearn.model_selection import train_test_split\n",
    "import RollingHelper as h\n",
    "import itertools\n",
    "from sklearn.linear_model import LinearRegression\n",
    "from sklearn.metrics import r2_score\n",
    "from sklearn.tree import DecisionTreeClassifier\n",
    "from sklearn.metrics import confusion_matrix\n",
    "# for easier reading np\n",
    "np.set_printoptions(precision=3,suppress=True)"
   ]
  },
  {
   "cell_type": "code",
   "execution_count": 3,
   "metadata": {},
   "outputs": [],
   "source": [
    "# get dictionary of column names\n",
    "col_dict = h.getColDict()\n",
    "home_col_dict = dict(itertools.islice(col_dict.items(), 12))\n",
    "away_col_dict = dict(itertools.islice(col_dict.items(), 12, 24))\n",
    "home_indices = list(range(12))\n",
    "away_indices = list(range(12, 24))"
   ]
  },
  {
   "cell_type": "code",
   "execution_count": 14,
   "metadata": {},
   "outputs": [
    {
     "name": "stdout",
     "output_type": "stream",
     "text": [
      "[[0. 0. 0. ... 0. 0. 0.]\n",
      " [0. 0. 0. ... 0. 0. 0.]]\n",
      "0.5280160091480847\n",
      "(11, 23)\n",
      "0.5500285877644369\n",
      "(6, 11, 18, 23)\n",
      "0.5528873642081189\n",
      "(2, 3, 7, 14, 15, 19)\n",
      "0.5668953687821612\n",
      "(1, 2, 8, 11, 13, 14, 20, 23)\n",
      "0.5657518582046884\n",
      "(0, 1, 3, 7, 9, 12, 13, 15, 19, 21)\n",
      "0.5677530017152659\n",
      "(0, 2, 3, 7, 9, 11, 12, 14, 15, 19, 21, 23)\n",
      "0.566609491137793\n",
      "(1, 2, 5, 6, 8, 9, 11, 13, 14, 17, 18, 20, 21, 23)\n",
      "0.5703259005145798\n",
      "(0, 4, 5, 6, 7, 8, 9, 11, 12, 16, 17, 18, 19, 20, 21, 23)\n",
      "0.5726129216695255\n",
      "(0, 2, 3, 4, 5, 6, 7, 9, 11, 12, 14, 15, 16, 17, 18, 19, 21, 23)\n",
      "0.5700400228702116\n",
      "(2, 3, 4, 5, 6, 7, 8, 9, 10, 11, 14, 15, 16, 17, 18, 19, 20, 21, 22, 23)\n",
      "0.565180102915952\n",
      "(0, 2, 3, 4, 5, 6, 7, 8, 9, 10, 11, 12, 14, 15, 16, 17, 18, 19, 20, 21, 22, 23)\n",
      "0.5405946255002859\n",
      "(0, 1, 2, 3, 4, 5, 6, 7, 8, 9, 10, 11, 12, 13, 14, 15, 16, 17, 18, 19, 20, 21, 22, 23)\n",
      "0.5245854774156661\n",
      "(1, 13)\n",
      "0.5408805031446541\n",
      "(5, 11, 17, 23)\n",
      "0.544882790165809\n",
      "(1, 2, 6, 13, 14, 18)\n",
      "0.5485991995425957\n",
      "(2, 4, 7, 11, 14, 16, 19, 23)\n",
      "0.5628930817610063\n",
      "(1, 2, 4, 5, 11, 13, 14, 16, 17, 23)\n",
      "0.5563178959405375\n",
      "(1, 6, 7, 9, 10, 11, 13, 18, 19, 21, 22, 23)\n",
      "0.5580331618067467\n",
      "(1, 5, 6, 7, 8, 10, 11, 13, 17, 18, 19, 20, 22, 23)\n",
      "0.5591766723842195\n",
      "(0, 2, 3, 5, 6, 7, 9, 10, 12, 14, 15, 17, 18, 19, 21, 22)\n",
      "0.5551743853630646\n",
      "(0, 2, 3, 4, 6, 7, 8, 9, 10, 12, 14, 15, 16, 18, 19, 20, 21, 22)\n",
      "0.550314465408805\n",
      "(1, 2, 4, 5, 6, 7, 8, 9, 10, 11, 13, 14, 16, 17, 18, 19, 20, 21, 22, 23)\n",
      "0.5626072041166381\n",
      "(0, 1, 2, 3, 4, 5, 6, 7, 9, 10, 11, 12, 13, 14, 15, 16, 17, 18, 19, 21, 22, 23)\n",
      "0.5443110348770727\n",
      "(0, 1, 2, 3, 4, 5, 6, 7, 8, 9, 10, 11, 12, 13, 14, 15, 16, 17, 18, 19, 20, 21, 22, 23)\n",
      "[[0.509 0.501 0.512 ... 0.565 0.551 0.541]\n",
      " [0.519 0.525 0.522 ... 0.536 0.525 0.544]]\n"
     ]
    }
   ],
   "source": [
    "\n",
    "# initialize accuaracy matrix and max accuracy vector\n",
    "mat_length = 0\n",
    "for i in range(1, 25):\n",
    "    mat_length = mat_length + len(list(itertools.combinations(home_indices, i)))\n",
    "acc_matrix = np.zeros((len(file_names), mat_length))\n",
    "print(acc_matrix)\n",
    "\n",
    "max_acc_vec = np.zeros(12)\n",
    "# list to hold all the max accuracy feature selections\n",
    "max_acc_indices = []\n",
    "\n",
    "\n",
    "# loop through data files\n",
    "for fname_ind in range(len(file_names)):\n",
    "    with open(f'../../data/{file_names[fname_ind]}', 'r') as f: \n",
    "        temp = np.genfromtxt(f,delimiter=',', skip_header = 1)\n",
    "\n",
    "    #split feature matrix and label vector\n",
    "    X = temp[:, 1:]\n",
    "    y = temp[:, 0]\n",
    "    \n",
    "    # split training and testing data\n",
    "    X_train, X_test, y_train, y_test = train_test_split(X, y, train_size=0.7)\n",
    "    \n",
    "    # keep track of acc_matrix index\n",
    "    index = 0\n",
    "    \n",
    "    for i in range(1, 13):\n",
    "        \n",
    "        # keep track of max accuracy and feature selections\n",
    "        max_acc = -1\n",
    "        max_features = []\n",
    "    \n",
    "        # get list of possible feature selections length 1\n",
    "        home_feature_subsets = list(itertools.combinations(home_indices, i))\n",
    "        away_feature_subsets = list(itertools.combinations(away_indices, i))\n",
    "        \n",
    "        # loop through the list of feature subsets\n",
    "        for j in range(len(home_feature_subsets)):\n",
    "            feature_list = home_feature_subsets[j] + away_feature_subsets[j]\n",
    "            #print(feature_list)\n",
    "            # Feature Selection\n",
    "            X_train_sub = X_train[:,  feature_list]\n",
    "            X_test_sub = X_test[:, feature_list]\n",
    "\n",
    "            # Decision Tree Model\n",
    "            clf = DecisionTreeClassifier(random_state=0)\n",
    "            clf = clf.fit(X_train_sub, y_train)\n",
    "            # get accuracy\n",
    "            acc = clf.score(X_test_sub,y_test)\n",
    "            acc_matrix[fname_ind][index] = acc\n",
    "            index = index+1\n",
    "            \n",
    "            if acc > max_acc:\n",
    "                max_acc = acc\n",
    "                max_features = feature_list\n",
    "                \n",
    "        # store max accuracy and feature selection\n",
    "        max_acc_vec[i-1] = max_acc\n",
    "        max_acc_indices.append(max_features)\n",
    "        print(max_acc)\n",
    "        print(max_features)\n",
    "\n",
    "            \n",
    "print(acc_matrix)    \n",
    "    "
   ]
  },
  {
   "cell_type": "code",
   "execution_count": 20,
   "metadata": {},
   "outputs": [
    {
     "data": {
      "image/png": "[encoded data removed]",
      "text/plain": [
       "<Figure size 360x360 with 2 Axes>"
      ]
     },
     "metadata": {
      "needs_background": "light"
     },
     "output_type": "display_data"
    }
   ],
   "source": [
    "# Plot Histograms of accuracies\n",
    "fig, axes = plt.subplots(nrows=len(file_names), ncols=1, figsize=(5, 5), sharex=True)\n",
    "for r in range(len(acc_matrix)):\n",
    "    axes[r].hist(acc_matrix[r])\n",
    "    "
   ]
  },
  {
   "cell_type": "code",
   "execution_count": 3,
   "metadata": {},
   "outputs": [
    {
     "name": "stdout",
     "output_type": "stream",
     "text": [
      "Size of training feature matrix: (8161, 24)\n",
      "Size of testing feature matrix: (3498, 24)\n",
      "Size of training label vector: (8161,)\n",
      "Size of testing label vector: (3498,)\n"
     ]
    }
   ],
   "source": [
    "# split training and testing data\n",
    "X_train, X_test, y_train, y_test = train_test_split(X, y, train_size=0.7)\n",
    "print(\"Size of training feature matrix: \"+str(X_train.shape))\n",
    "print(\"Size of testing feature matrix: \"+str(X_test.shape))\n",
    "print(\"Size of training label vector: \"+str(y_train.shape))\n",
    "print(\"Size of testing label vector: \"+str(y_test.shape))"
   ]
  },
  {
   "cell_type": "code",
   "execution_count": null,
   "metadata": {},
   "outputs": [],
   "source": []
  },
  {
   "cell_type": "code",
   "execution_count": 6,
   "metadata": {},
   "outputs": [],
   "source": [
    "from sklearn.linear_model import LinearRegression\n",
    "from sklearn.metrics import r2_score\n",
    "\n",
    "# feature selection\n",
    "\n",
    "X_train_pts = X_train[:, [ col_dict['FGA_HOME_avg'], col_dict['DREB_HOME_avg'], col_dict['PTS_HOME_avg'], \n",
    "                          col_dict['FGA_AWAY_avg'], col_dict['OREB_AWAY_avg'], col_dict['PTS_AWAY_avg']]]\n",
    "X_test_pts = X_test[:, [col_dict['FGA_HOME_avg'], col_dict['DREB_HOME_avg'], col_dict['PTS_HOME_avg'], \n",
    "                          col_dict['FGA_AWAY_avg'], col_dict['OREB_AWAY_avg'], col_dict['PTS_AWAY_avg']]]"
   ]
  },
  {
   "cell_type": "code",
   "execution_count": 7,
   "metadata": {},
   "outputs": [
    {
     "data": {
      "text/plain": [
       "array([[ 80.66666667,  30.93333333,  97.4       ,  82.33333333,\n",
       "          9.93333333, 107.33333333],\n",
       "       [ 77.86666667,  32.06666667,  97.66666667,  79.06666667,\n",
       "          9.46666667,  93.73333333],\n",
       "       [ 85.06666667,  32.2       ,  94.86666667,  82.2       ,\n",
       "         10.46666667,  98.93333333],\n",
       "       ...,\n",
       "       [ 90.8       ,  35.2       , 110.06666667,  90.26666667,\n",
       "         11.33333333, 110.2       ],\n",
       "       [ 82.53333333,  31.8       ,  97.8       ,  80.73333333,\n",
       "         11.86666667,  93.        ],\n",
       "       [ 81.13333333,  32.2       ,  96.13333333,  88.33333333,\n",
       "         10.13333333, 103.06666667]])"
      ]
     },
     "execution_count": 7,
     "metadata": {},
     "output_type": "execute_result"
    }
   ],
   "source": [
    "X_train_pts"
   ]
  },
  {
   "cell_type": "code",
   "execution_count": 8,
   "metadata": {},
   "outputs": [],
   "source": [
    "# Decision Tree Model\n",
    "from sklearn.tree import DecisionTreeClassifier\n",
    "\n",
    "clf = DecisionTreeClassifier(random_state=0)\n",
    "clf = clf.fit(X_train_pts, y_train)\n",
    "y_hat = clf.predict(X_test_pts)"
   ]
  },
  {
   "cell_type": "code",
   "execution_count": 9,
   "metadata": {},
   "outputs": [
    {
     "name": "stdout",
     "output_type": "stream",
     "text": [
      "Confusion Matrix: \n",
      "[[ 679  773]\n",
      " [ 819 1227]]\n",
      "Accuracy: 54.49%\n"
     ]
    }
   ],
   "source": [
    "# Determine DT performance\n",
    "from sklearn.metrics import confusion_matrix\n",
    "\n",
    "Cmat = confusion_matrix(y_test, y_hat)\n",
    "acc = clf.score(X_test_pts,y_test)\n",
    "\n",
    "print(\"Confusion Matrix: \")\n",
    "print(Cmat)\n",
    "print(\"Accuracy: \" + str(format(acc*100,'.2f')) + '%')"
   ]
  },
  {
   "cell_type": "code",
   "execution_count": null,
   "metadata": {},
   "outputs": [],
   "source": []
  }
 ],
 "metadata": {
  "kernelspec": {
   "display_name": "Python 3",
   "language": "python",
   "name": "python3"
  },
  "language_info": {
   "codemirror_mode": {
    "name": "ipython",
    "version": 3
   },
   "file_extension": ".py",
   "mimetype": "text/x-python",
   "name": "python",
   "nbconvert_exporter": "python",
   "pygments_lexer": "ipython3",
   "version": "3.8.5"
  },
  "vscode": {
   "interpreter": {
    "hash": "04247b32ff70598642d58c49a1f55d895594a2affd158be541390551403ece3a"
   }
  }
 },
 "nbformat": 4,
 "nbformat_minor": 4
}
