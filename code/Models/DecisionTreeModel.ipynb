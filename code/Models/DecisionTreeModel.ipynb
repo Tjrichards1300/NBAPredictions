{
 "cells": [
  {
   "cell_type": "code",
   "execution_count": 1,
   "metadata": {},
   "outputs": [],
   "source": [
    "import pandas as pd\n",
    "import numpy as np\n",
    "import matplotlib.pyplot as plt\n",
    "with open('./data/nba_games.csv', 'r') as f: \n",
    "  temp = np.genfromtxt(f,delimiter=',', skip_header = 1)"
   ]
  },
  {
   "cell_type": "code",
   "execution_count": 2,
   "metadata": {},
   "outputs": [],
   "source": [
    "#split feature matrix and label vector\n",
    "X = temp[:, 1:]\n",
    "y = temp[:, 0]"
   ]
  },
  {
   "cell_type": "code",
   "execution_count": 3,
   "metadata": {},
   "outputs": [
    {
     "name": "stdout",
     "output_type": "stream",
     "text": [
      "Size of training feature matrix: (14305, 24)\n",
      "Size of testing feature matrix: (6131, 24)\n",
      "Size of training label vector: (14305,)\n",
      "Size of testing label vector: (6131,)\n"
     ]
    }
   ],
   "source": [
    "# split training and testing data\n",
    "from sklearn.model_selection import train_test_split\n",
    "X_train, X_test, y_train, y_test = train_test_split(X, y, train_size=0.7)\n",
    "print(\"Size of training feature matrix: \"+str(X_train.shape))\n",
    "print(\"Size of testing feature matrix: \"+str(X_test.shape))\n",
    "print(\"Size of training label vector: \"+str(y_train.shape))\n",
    "print(\"Size of testing label vector: \"+str(y_test.shape))"
   ]
  },
  {
   "cell_type": "code",
   "execution_count": 4,
   "metadata": {},
   "outputs": [
    {
     "data": {
      "text/plain": [
       "{'FGM_HOME': 0,\n",
       " 'FGA_HOME': 1,\n",
       " 'FG3M_HOME': 2,\n",
       " 'FTM_HOME': 3,\n",
       " 'FTA_HOME': 4,\n",
       " 'OREB_HOME': 5,\n",
       " 'DREB_HOME': 6,\n",
       " 'AST_HOME': 7,\n",
       " 'STL_HOME': 8,\n",
       " 'TOV_HOME': 9,\n",
       " 'PF_HOME': 10,\n",
       " 'PTS_HOME': 11,\n",
       " 'FGM_AWAY': 12,\n",
       " 'FGA_AWAY': 13,\n",
       " 'FG3M_AWAY': 14,\n",
       " 'FTM_AWAY': 15,\n",
       " 'FTA_AWAY': 16,\n",
       " 'OREB_AWAY': 17,\n",
       " 'DREB_AWAY': 18,\n",
       " 'AST_AWAY': 19,\n",
       " 'STL_AWAY': 20,\n",
       " 'TOV_AWAY': 21,\n",
       " 'PF_AWAY': 22,\n",
       " 'PTS_AWAY': 23}"
      ]
     },
     "execution_count": 4,
     "metadata": {},
     "output_type": "execute_result"
    }
   ],
   "source": [
    "import helper as h\n",
    "col_dict = h.getColDict()\n",
    "col_dict"
   ]
  },
  {
   "cell_type": "code",
   "execution_count": 5,
   "metadata": {},
   "outputs": [],
   "source": [
    "from sklearn.linear_model import LinearRegression\n",
    "from sklearn.metrics import r2_score\n",
    "\n",
    "# feature selection\n",
    "\n",
    "X_train_pts = X_train[:, [ col_dict['FGA_HOME'], col_dict['DREB_HOME'], col_dict['PTS_HOME'], \n",
    "                          col_dict['FGA_AWAY'], col_dict['OREB_AWAY'], col_dict['PTS_AWAY']]]\n",
    "X_test_pts = X_test[:, [col_dict['FGA_HOME'], col_dict['DREB_HOME'], col_dict['PTS_HOME'], \n",
    "                          col_dict['FGA_AWAY'], col_dict['OREB_AWAY'], col_dict['PTS_AWAY']]]"
   ]
  },
  {
   "cell_type": "code",
   "execution_count": 6,
   "metadata": {},
   "outputs": [
    {
     "data": {
      "text/plain": [
       "array([[ 84.90243902,  34.29268293,  98.82926829,  83.41463415,\n",
       "         11.73170732, 106.82926829],\n",
       "       [ 79.41463415,  31.34146341, 107.6097561 ,  81.56097561,\n",
       "         10.65853659,  98.82926829],\n",
       "       [ 87.2195122 ,  29.80487805, 102.07317073,  79.90243902,\n",
       "         11.90243902,  96.6097561 ],\n",
       "       ...,\n",
       "       [ 79.36585366,  29.68292683,  94.58536585,  83.12195122,\n",
       "         10.92682927,  97.29268293],\n",
       "       [ 76.95121951,  28.31707317,  93.6097561 ,  79.90243902,\n",
       "         11.90243902,  96.6097561 ],\n",
       "       [ 83.14634146,  29.53658537, 102.02439024,  80.31707317,\n",
       "         12.        ,  95.2195122 ]])"
      ]
     },
     "execution_count": 6,
     "metadata": {},
     "output_type": "execute_result"
    }
   ],
   "source": [
    "X_train_pts"
   ]
  },
  {
   "cell_type": "code",
   "execution_count": 7,
   "metadata": {},
   "outputs": [],
   "source": [
    "# Decision Tree Model\n",
    "from sklearn.tree import DecisionTreeClassifier\n",
    "\n",
    "clf = DecisionTreeClassifier(random_state=0)\n",
    "clf = clf.fit(X_train_pts, y_train)\n",
    "y_hat = clf.predict(X_test_pts)"
   ]
  },
  {
   "cell_type": "code",
   "execution_count": 8,
   "metadata": {},
   "outputs": [
    {
     "name": "stdout",
     "output_type": "stream",
     "text": [
      "Confusion Matrix: \n",
      "[[1337 1180]\n",
      " [1366 2248]]\n",
      "Accuracy: 58.47%\n"
     ]
    }
   ],
   "source": [
    "# Determine DT performance\n",
    "from sklearn.metrics import confusion_matrix\n",
    "\n",
    "Cmat = confusion_matrix(y_test, y_hat)\n",
    "acc = clf.score(X_test_pts,y_test)\n",
    "\n",
    "print(\"Confusion Matrix: \")\n",
    "print(Cmat)\n",
    "print(\"Accuracy: \" + str(format(acc*100,'.2f')) + '%')"
   ]
  },
  {
   "cell_type": "code",
   "execution_count": null,
   "metadata": {},
   "outputs": [],
   "source": []
  }
 ],
 "metadata": {
  "kernelspec": {
   "display_name": "Python 3.9.11 64-bit ('3.9.11')",
   "language": "python",
   "name": "python3"
  },
  "language_info": {
   "codemirror_mode": {
    "name": "ipython",
    "version": 3
   },
   "file_extension": ".py",
   "mimetype": "text/x-python",
   "name": "python",
   "nbconvert_exporter": "python",
   "pygments_lexer": "ipython3",
   "version": "3.9.11"
  },
  "vscode": {
   "interpreter": {
    "hash": "04247b32ff70598642d58c49a1f55d895594a2affd158be541390551403ece3a"
   }
  }
 },
 "nbformat": 4,
 "nbformat_minor": 4
}
