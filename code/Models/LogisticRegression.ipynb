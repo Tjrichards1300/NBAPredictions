{
 "cells": [
  {
   "cell_type": "code",
   "execution_count": 1,
   "metadata": {},
   "outputs": [],
   "source": [
    "file_name = \"Rolling15Games.csv\""
   ]
  },
  {
   "cell_type": "code",
   "execution_count": 2,
   "metadata": {},
   "outputs": [],
   "source": [
    "import pandas as pd\n",
    "import numpy as np\n",
    "import matplotlib.pyplot as plt\n",
    "from sklearn.linear_model import LogisticRegression\n",
    "from sklearn.metrics import r2_score, confusion_matrix, accuracy_score\n",
    "# for easier reading np\n",
    "np.set_printoptions(precision=3,suppress=True)\n",
    "with open(f'../../data/{file_name}', 'r') as f: \n",
    "  temp = np.genfromtxt(f,delimiter=',', skip_header = 1)"
   ]
  },
  {
   "cell_type": "code",
   "execution_count": 3,
   "metadata": {},
   "outputs": [],
   "source": [
    "#split feature matrix and label vector\n",
    "X = temp[:, 1:]\n",
    "y = temp[:, 0]"
   ]
  },
  {
   "cell_type": "code",
   "execution_count": 4,
   "metadata": {},
   "outputs": [
    {
     "name": "stdout",
     "output_type": "stream",
     "text": [
      "Size of training feature matrix: (8161, 24)\n",
      "Size of testing feature matrix: (3498, 24)\n",
      "Size of training label vector: (8161,)\n",
      "Size of testing label vector: (3498,)\n"
     ]
    }
   ],
   "source": [
    "# split training and testing data\n",
    "from sklearn.model_selection import train_test_split\n",
    "X_train, X_test, y_train, y_test = train_test_split(X, y, train_size=0.7)\n",
    "print(\"Size of training feature matrix: \"+str(X_train.shape))\n",
    "print(\"Size of testing feature matrix: \"+str(X_test.shape))\n",
    "print(\"Size of training label vector: \"+str(y_train.shape))\n",
    "print(\"Size of testing label vector: \"+str(y_test.shape))"
   ]
  },
  {
   "cell_type": "code",
   "execution_count": 5,
   "metadata": {},
   "outputs": [],
   "source": [
    "col_dict = {'FGM_HOME': 0, 'FGA_HOME': 1, 'FG3M_HOME': 2, 'FTM_HOME': 3, 'FTA_HOME': 4, 'OREB_HOME': 5, 'DREB_HOME': 6,\n",
    "            'AST_HOME': 7, 'STL_HOME': 8, 'TOV_HOME': 9, 'PF_HOME': 10, 'PTS_HOME': 11, 'FGM_AWAY': 12, 'FGA_AWAY': 13,\n",
    "            'FG3M_AWAY': 14, 'FTM_AWAY': 15, 'FTA_AWAY': 16, 'OREB_AWAY': 17, 'DREB_AWAY': 18, 'AST_AWAY': 19,\n",
    "            'STL_AWAY': 20, 'TOV_AWAY': 21, 'PF_AWAY': 22, 'PTS_AWAY': 23}"
   ]
  },
  {
   "cell_type": "code",
   "execution_count": 6,
   "metadata": {},
   "outputs": [],
   "source": [
    "X_train_pts = X_train[:, [ col_dict['FGA_HOME'], col_dict['DREB_HOME'], col_dict['PTS_HOME'], \n",
    "                          col_dict['FGA_AWAY'], col_dict['OREB_AWAY'], col_dict['PTS_AWAY']]]\n",
    "X_test_pts = X_test[:, [col_dict['FGA_HOME'], col_dict['DREB_HOME'], col_dict['PTS_HOME'], \n",
    "                          col_dict['FGA_AWAY'], col_dict['OREB_AWAY'], col_dict['PTS_AWAY']]]"
   ]
  },
  {
   "cell_type": "code",
   "execution_count": 7,
   "metadata": {},
   "outputs": [
    {
     "name": "stdout",
     "output_type": "stream",
     "text": [
      "Accuracy of logistic regression classifier on test set: 0.615\n",
      "[[ 532  936]\n",
      " [ 412 1618]]\n"
     ]
    }
   ],
   "source": [
    "clf = LogisticRegression(fit_intercept=True).fit(X_train_pts, y_train)\n",
    "y_pred = clf.predict(X_test_pts)\n",
    "print('Accuracy of logistic regression classifier on test set: {:.3f}'.format(accuracy_score(y_pred, y_test)))\n",
    "cmat = confusion_matrix(y_test, y_pred)\n",
    "print(cmat)"
   ]
  },
  {
   "cell_type": "code",
   "execution_count": 17,
   "metadata": {},
   "outputs": [],
   "source": [
    "# Two Potential Features\n",
    "max_acc = 0\n",
    "max_pair = (-1,-1)\n",
    "for i in range(10):\n",
    "    for j in range(i,11):\n",
    "        for k in range(j,12):\n",
    "            iter_indices = [i,j,k,i+12,j+12,k+12]\n",
    "            X_train_pair = X_train[:,iter_indices]\n",
    "            X_test_pair = X_test[:,iter_indices]\n",
    "            clf = LogisticRegression(fit_intercept=True).fit(X_train_pair, y_train)\n",
    "            y_pred = clf.predict(X_test_pair)\n",
    "            iter_acc = accuracy_score(y_pred, y_test)\n",
    "            \n",
    "        if iter_acc > max_acc:\n",
    "            max_pair = (i,j,k)\n",
    "            max_acc = iter_acc"
   ]
  },
  {
   "cell_type": "code",
   "execution_count": 19,
   "metadata": {},
   "outputs": [
    {
     "name": "stdout",
     "output_type": "stream",
     "text": [
      "Max Accuracy 0.6240708976558034\n",
      "Indices (1, 9, 11)\n"
     ]
    }
   ],
   "source": [
    "print(\"Max Accuracy\", max_acc)\n",
    "print(\"Indices\", max_pair)"
   ]
  },
  {
   "cell_type": "code",
   "execution_count": null,
   "metadata": {},
   "outputs": [],
   "source": []
  }
 ],
 "metadata": {
  "kernelspec": {
   "display_name": "Python 3.8.13 64-bit ('3.8.13')",
   "language": "python",
   "name": "python3"
  },
  "language_info": {
   "codemirror_mode": {
    "name": "ipython",
    "version": 3
   },
   "file_extension": ".py",
   "mimetype": "text/x-python",
   "name": "python",
   "nbconvert_exporter": "python",
   "pygments_lexer": "ipython3",
   "version": "3.8.13"
  },
  "orig_nbformat": 4,
  "vscode": {
   "interpreter": {
    "hash": "097b5c554a4a1fb3c36a4724eac3a26e6c0060d08d435c499edb7301c6a580e5"
   }
  }
 },
 "nbformat": 4,
 "nbformat_minor": 2
}
