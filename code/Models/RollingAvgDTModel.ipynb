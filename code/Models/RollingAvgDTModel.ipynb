{
 "cells": [
  {
   "cell_type": "code",
   "execution_count": 1,
   "metadata": {},
   "outputs": [],
   "source": [
    "import pandas as pd\n",
    "import numpy as np\n",
    "import matplotlib.pyplot as plt\n",
    "with open('../../data/Rolling15Games.csv', 'r') as f: \n",
    "  temp = np.genfromtxt(f,delimiter=',', skip_header = 1)"
   ]
  },
  {
   "cell_type": "code",
   "execution_count": 2,
   "metadata": {},
   "outputs": [
    {
     "data": {
      "text/plain": [
       "{'FGM_HOME_avg': 0,\n",
       " 'FGA_HOME_avg': 1,\n",
       " 'FG3M_HOME_avg': 2,\n",
       " 'FTM_HOME_avg': 3,\n",
       " 'FTA_HOME_avg': 4,\n",
       " 'OREB_HOME_avg': 5,\n",
       " 'DREB_HOME_avg': 6,\n",
       " 'AST_HOME_avg': 7,\n",
       " 'STL_HOME_avg': 8,\n",
       " 'TOV_HOME_avg': 9,\n",
       " 'PF_HOME_avg': 10,\n",
       " 'PTS_HOME_avg': 11,\n",
       " 'FGM_AWAY_avg': 12,\n",
       " 'FGA_AWAY_avg': 13,\n",
       " 'FG3M_AWAY_avg': 14,\n",
       " 'FTM_AWAY_avg': 15,\n",
       " 'FTA_AWAY_avg': 16,\n",
       " 'OREB_AWAY_avg': 17,\n",
       " 'DREB_AWAY_avg': 18,\n",
       " 'AST_AWAY_avg': 19,\n",
       " 'STL_AWAY_avg': 20,\n",
       " 'TOV_AWAY_avg': 21,\n",
       " 'PF_AWAY_avg': 22,\n",
       " 'PTS_AWAY_avg': 23}"
      ]
     },
     "execution_count": 2,
     "metadata": {},
     "output_type": "execute_result"
    }
   ],
   "source": [
    "import RollingAvgHelper as h\n",
    "col_dict = h.getColDict()\n",
    "col_dict"
   ]
  },
  {
   "cell_type": "code",
   "execution_count": 44,
   "metadata": {},
   "outputs": [],
   "source": [
    "#split feature matrix and label vector\n",
    "# columns 4 and 20 are team abbreviations, so we take them out of the model computation\n",
    "y = temp[:, -1]\n",
    "X = np.hstack((temp[:, :4], temp[:, 5:20], temp[:, 21:]))"
   ]
  },
  {
   "cell_type": "code",
   "execution_count": 45,
   "metadata": {},
   "outputs": [
    {
     "name": "stdout",
     "output_type": "stream",
     "text": [
      "Size of training feature matrix: (8161, 32)\n",
      "Size of testing feature matrix: (3498, 32)\n",
      "Size of training label vector: (8161,)\n",
      "Size of testing label vector: (3498,)\n"
     ]
    }
   ],
   "source": [
    "# split training and testing data\n",
    "from sklearn.model_selection import train_test_split\n",
    "X_train, X_test, y_train, y_test = train_test_split(X, y, train_size=0.7)\n",
    "print(\"Size of training feature matrix: \"+str(X_train.shape))\n",
    "print(\"Size of testing feature matrix: \"+str(X_test.shape))\n",
    "print(\"Size of training label vector: \"+str(y_train.shape))\n",
    "print(\"Size of testing label vector: \"+str(y_test.shape))"
   ]
  },
  {
   "cell_type": "code",
   "execution_count": 46,
   "metadata": {},
   "outputs": [],
   "source": [
    "# Decision Tree Model\n",
    "from sklearn.tree import DecisionTreeClassifier\n",
    "\n",
    "clf = DecisionTreeClassifier(random_state=0)\n",
    "clf = clf.fit(X_train, y_train)\n",
    "y_hat = clf.predict(X_test)"
   ]
  },
  {
   "cell_type": "code",
   "execution_count": 47,
   "metadata": {},
   "outputs": [
    {
     "name": "stdout",
     "output_type": "stream",
     "text": [
      "Confusion Matrix: \n",
      "[[2009    0]\n",
      " [   0 1489]]\n",
      "Accuracy: 100.00%\n"
     ]
    }
   ],
   "source": [
    "# Determine DT performance\n",
    "from sklearn.metrics import confusion_matrix\n",
    "\n",
    "Cmat = confusion_matrix(y_test, y_hat)\n",
    "acc = clf.score(X_test,y_test)\n",
    "\n",
    "print(\"Confusion Matrix: \")\n",
    "print(Cmat)\n",
    "print(\"Accuracy: \" + str(format(acc*100,'.2f')) + '%')"
   ]
  },
  {
   "cell_type": "code",
   "execution_count": null,
   "metadata": {},
   "outputs": [],
   "source": []
  }
 ],
 "metadata": {
  "kernelspec": {
   "display_name": "Python 3",
   "language": "python",
   "name": "python3"
  },
  "language_info": {
   "codemirror_mode": {
    "name": "ipython",
    "version": 3
   },
   "file_extension": ".py",
   "mimetype": "text/x-python",
   "name": "python",
   "nbconvert_exporter": "python",
   "pygments_lexer": "ipython3",
   "version": "3.8.5"
  }
 },
 "nbformat": 4,
 "nbformat_minor": 4
}
