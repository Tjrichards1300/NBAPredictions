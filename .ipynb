{
 "cells": [
  {
   "cell_type": "code",
   "execution_count": 1,
   "metadata": {},
   "outputs": [
    {
     "name": "stdout",
     "output_type": "stream",
     "text": [
      "Warning: Your Kaggle API key is readable by other users on this system! To fix this, you can run 'chmod 600 /Users/russellmorganspence/.kaggle/kaggle.json'\n"
     ]
    }
   ],
   "source": [
    "import zipfile, io, json, os\n",
    "from kaggle.api.kaggle_api_extended import KaggleApi\n",
    "import pandas as pd"
   ]
  },
  {
   "cell_type": "code",
   "execution_count": 2,
   "metadata": {},
   "outputs": [],
   "source": [
    "files = [f for f in os.listdir('.') if os.path.isfile(f)]\n",
    "if 'basketball.zip' not in files and 'basketball.sqlite' not in files:\n",
    "        api = KaggleApi()\n",
    "        #config_dir = os.getcwd()\n",
    "        #config_file = 'kaggle.json'\n",
    "        #api.config = os.path.join(config_dir, config_file)\n",
    "        api.authenticate()\n",
    "        api.dataset_download_files('wyattowalsh/basketball') #downloads to cwd\n",
    "elif 'basketball.zip' in files and 'basketball.sqlite' not in files:\n",
    "    with zipfile.ZipFile('basketball.zip', 'r') as zip_ref:\n",
    "        zip_ref.extractall()\n",
    "    os.remove('daily_execution_pipeline.yml')\n",
    "    os.remove('monthly_execution_pipeline.yml')\n",
    "\n",
    "if 'basketball.sqlite' in files:\n",
    "    %load_ext sql\n",
    "    %sql sqlite:///basketball.sqlite"
   ]
  },
  {
   "cell_type": "code",
   "execution_count": 27,
   "metadata": {},
   "outputs": [
    {
     "name": "stdout",
     "output_type": "stream",
     "text": [
      " * sqlite:///basketball.sqlite\n",
      "Done.\n",
      "Returning data to local variable nba_home_stats\n"
     ]
    }
   ],
   "source": [
    "%%sql\n",
    "nba_home_stats << \n",
    "SELECT TEAM_ID_HOME, GAME_DATE, TEAM_ABBREVIATION_HOME,\n",
    "AVG(FGM_HOME) OVER (ORDER BY GAME_DATE ROWS BETWEEN 15 PRECEDING AND 1 PRECEDING) AS FGM_HOME_avg,\n",
    "AVG(FGA_HOME) OVER (ORDER BY GAME_DATE ROWS BETWEEN 15 PRECEDING AND 1 PRECEDING) AS FGA_HOME_avg,\n",
    "AVG(FG3M_HOME) OVER (ORDER BY GAME_DATE ROWS BETWEEN 15 PRECEDING AND 1 PRECEDING) AS FG3M_HOME_avg,\n",
    "AVG(FG3M_HOME) OVER (ORDER BY GAME_DATE ROWS BETWEEN 15 PRECEDING AND 1 PRECEDING) AS FG3M_HOME_avg,\n",
    "AVG(FTM_HOME) OVER (ORDER BY GAME_DATE ROWS BETWEEN 15 PRECEDING AND 1 PRECEDING) AS FTM_HOME_avg,\n",
    "AVG(FTA_HOME) OVER (ORDER BY GAME_DATE ROWS BETWEEN 15 PRECEDING AND 1 PRECEDING) AS FTA_HOME_avg,\n",
    "AVG(OREB_HOME) OVER (ORDER BY GAME_DATE ROWS BETWEEN 15 PRECEDING AND 1 PRECEDING) AS OREB_HOME_avg,\n",
    "AVG(DREB_HOME) OVER (ORDER BY GAME_DATE ROWS BETWEEN 15 PRECEDING AND 1 PRECEDING) AS DREB_HOME_avg,\n",
    "AVG(AST_HOME) OVER (ORDER BY GAME_DATE ROWS BETWEEN 15 PRECEDING AND 1 PRECEDING) AS AST_HOME_avg,\n",
    "AVG(STL_HOME) OVER (ORDER BY GAME_DATE ROWS BETWEEN 15 PRECEDING AND 1 PRECEDING) AS STL_HOME_avg,\n",
    "AVG(TOV_HOME) OVER (ORDER BY GAME_DATE ROWS BETWEEN 15 PRECEDING AND 1 PRECEDING) AS TOV_HOME_avg,\n",
    "AVG(PF_HOME) OVER (ORDER BY GAME_DATE ROWS BETWEEN 15 PRECEDING AND 1 PRECEDING) AS PF_HOME_avg,\n",
    "AVG(PTS_HOME) OVER (ORDER BY GAME_DATE ROWS BETWEEN 15 PRECEDING AND 1 PRECEDING) AS PTS_HOME_avg\n",
    "FROM Game\n",
    "WHERE Season >= 2019 AND TEAM_ID_HOME = 1610612746"
   ]
  },
  {
   "cell_type": "code",
   "execution_count": 28,
   "metadata": {},
   "outputs": [
    {
     "name": "stdout",
     "output_type": "stream",
     "text": [
      " * sqlite:///basketball.sqlite\n",
      "Done.\n",
      "Returning data to local variable nba_away_stats\n"
     ]
    }
   ],
   "source": [
    "%%sql\n",
    "nba_away_stats <<\n",
    "SELECT TEAM_ID_AWAY, GAME_DATE, TEAM_ABBREVIATION_AWAY, \n",
    "AVG(FGM_AWAY) OVER (ORDER BY GAME_DATE ROWS BETWEEN 15 PRECEDING AND 1 PRECEDING) AS FGM_AWAY_avg,\n",
    "AVG(FGA_AWAY) OVER (ORDER BY GAME_DATE ROWS BETWEEN 15 PRECEDING AND 1 PRECEDING) AS FGA_AWAY_avg,\n",
    "AVG(FG3M_AWAY) OVER (ORDER BY GAME_DATE ROWS BETWEEN 15 PRECEDING AND 1 PRECEDING) AS FG3M_AWAY_avg,\n",
    "AVG(FG3M_AWAY) OVER (ORDER BY GAME_DATE ROWS BETWEEN 15 PRECEDING AND 1 PRECEDING) AS FG3M_AWAY_avg,\n",
    "AVG(FTM_AWAY) OVER (ORDER BY GAME_DATE ROWS BETWEEN 15 PRECEDING AND 1 PRECEDING) AS FTM_AWAY_avg,\n",
    "AVG(FTA_AWAY) OVER (ORDER BY GAME_DATE ROWS BETWEEN 15 PRECEDING AND 1 PRECEDING) AS FTA_AWAY_avg,\n",
    "AVG(OREB_AWAY) OVER (ORDER BY GAME_DATE ROWS BETWEEN 15 PRECEDING AND 1 PRECEDING) AS OREB_AWAY_avg,\n",
    "AVG(DREB_AWAY) OVER (ORDER BY GAME_DATE ROWS BETWEEN 15 PRECEDING AND 1 PRECEDING) AS DREB_AWAY_avg,\n",
    "AVG(AST_AWAY) OVER (ORDER BY GAME_DATE ROWS BETWEEN 15 PRECEDING AND 1 PRECEDING) AS AST_AWAY_avg,\n",
    "AVG(STL_AWAY) OVER (ORDER BY GAME_DATE ROWS BETWEEN 15 PRECEDING AND 1 PRECEDING) AS STL_AWAY_avg,\n",
    "AVG(TOV_AWAY) OVER (ORDER BY GAME_DATE ROWS BETWEEN 15 PRECEDING AND 1 PRECEDING) AS TOV_AWAY_avg,\n",
    "AVG(PF_AWAY) OVER (ORDER BY GAME_DATE ROWS BETWEEN 15 PRECEDING AND 1 PRECEDING) AS PF_AWAY_avg,\n",
    "AVG(PTS_AWAY) OVER (ORDER BY GAME_DATE ROWS BETWEEN 15 PRECEDING AND 1 PRECEDING) AS PTS_AWAY_avg\n",
    "FROM Game\n",
    "WHERE Season >= 2019 AND TEAM_ID_HOME = 1610612746"
   ]
  },
  {
   "cell_type": "code",
   "execution_count": 26,
   "metadata": {},
   "outputs": [
    {
     "name": "stdout",
     "output_type": "stream",
     "text": [
      " * sqlite:///basketball.sqlite\n",
      "(sqlite3.OperationalError) near \"away_games\": syntax error\n",
      "[SQL: WITH home_games AS (\n",
      "    SELECT TEAM_ID_HOME, GAME_DATE, TEAM_ABBREVIATION_HOME,\n",
      "        AVG(FGM_HOME) OVER (ORDER BY GAME_DATE ROWS BETWEEN 15 PRECEDING AND 1 PRECEDING) AS FGM_HOME_avg,\n",
      "        AVG(FGA_HOME) OVER (ORDER BY GAME_DATE ROWS BETWEEN 15 PRECEDING AND 1 PRECEDING) AS FGA_HOME_avg,\n",
      "        AVG(FG3M_HOME) OVER (ORDER BY GAME_DATE ROWS BETWEEN 15 PRECEDING AND 1 PRECEDING) AS FG3M_HOME_avg,\n",
      "        AVG(FG3M_HOME) OVER (ORDER BY GAME_DATE ROWS BETWEEN 15 PRECEDING AND 1 PRECEDING) AS FG3M_HOME_avg,\n",
      "        AVG(FTM_HOME) OVER (ORDER BY GAME_DATE ROWS BETWEEN 15 PRECEDING AND 1 PRECEDING) AS FTM_HOME_avg,\n",
      "        AVG(FTA_HOME) OVER (ORDER BY GAME_DATE ROWS BETWEEN 15 PRECEDING AND 1 PRECEDING) AS FTA_HOME_avg,\n",
      "        AVG(OREB_HOME) OVER (ORDER BY GAME_DATE ROWS BETWEEN 15 PRECEDING AND 1 PRECEDING) AS OREB_HOME_avg,\n",
      "        AVG(DREB_HOME) OVER (ORDER BY GAME_DATE ROWS BETWEEN 15 PRECEDING AND 1 PRECEDING) AS DREB_HOME_avg,\n",
      "        AVG(AST_HOME) OVER (ORDER BY GAME_DATE ROWS BETWEEN 15 PRECEDING AND 1 PRECEDING) AS AST_HOME_avg,\n",
      "        AVG(STL_HOME) OVER (ORDER BY GAME_DATE ROWS BETWEEN 15 PRECEDING AND 1 PRECEDING) AS STL_HOME_avg,\n",
      "        AVG(TOV_HOME) OVER (ORDER BY GAME_DATE ROWS BETWEEN 15 PRECEDING AND 1 PRECEDING) AS TOV_HOME_avg,\n",
      "        AVG(PF_HOME) OVER (ORDER BY GAME_DATE ROWS BETWEEN 15 PRECEDING AND 1 PRECEDING) AS PF_HOME_avg,\n",
      "        AVG(PTS_HOME) OVER (ORDER BY GAME_DATE ROWS BETWEEN 15 PRECEDING AND 1 PRECEDING) AS PTS_HOME_avg\n",
      "    FROM Game\n",
      "    WHERE Season >= 2019 AND TEAM_ID_HOME = 1610612746\n",
      "),\n",
      "WITH away_games AS (\n",
      "    SELECT TEAM_ID_AWAY, GAME_DATE, TEAM_ABBREVIATION_AWAY, \n",
      "        AVG(FGM_AWAY) OVER (ORDER BY GAME_DATE ROWS BETWEEN 15 PRECEDING AND 1 PRECEDING) AS FGM_AWAY_avg,\n",
      "        AVG(FGA_AWAY) OVER (ORDER BY GAME_DATE ROWS BETWEEN 15 PRECEDING AND 1 PRECEDING) AS FGA_AWAY_avg,\n",
      "        AVG(FG3M_AWAY) OVER (ORDER BY GAME_DATE ROWS BETWEEN 15 PRECEDING AND 1 PRECEDING) AS FG3M_AWAY_avg,\n",
      "        AVG(FG3M_AWAY) OVER (ORDER BY GAME_DATE ROWS BETWEEN 15 PRECEDING AND 1 PRECEDING) AS FG3M_AWAY_avg,\n",
      "        AVG(FTM_AWAY) OVER (ORDER BY GAME_DATE ROWS BETWEEN 15 PRECEDING AND 1 PRECEDING) AS FTM_AWAY_avg,\n",
      "        AVG(FTA_AWAY) OVER (ORDER BY GAME_DATE ROWS BETWEEN 15 PRECEDING AND 1 PRECEDING) AS FTA_AWAY_avg,\n",
      "        AVG(OREB_AWAY) OVER (ORDER BY GAME_DATE ROWS BETWEEN 15 PRECEDING AND 1 PRECEDING) AS OREB_AWAY_avg,\n",
      "        AVG(DREB_AWAY) OVER (ORDER BY GAME_DATE ROWS BETWEEN 15 PRECEDING AND 1 PRECEDING) AS DREB_AWAY_avg,\n",
      "        AVG(AST_AWAY) OVER (ORDER BY GAME_DATE ROWS BETWEEN 15 PRECEDING AND 1 PRECEDING) AS AST_AWAY_avg,\n",
      "        AVG(STL_AWAY) OVER (ORDER BY GAME_DATE ROWS BETWEEN 15 PRECEDING AND 1 PRECEDING) AS STL_AWAY_avg,\n",
      "        AVG(TOV_AWAY) OVER (ORDER BY GAME_DATE ROWS BETWEEN 15 PRECEDING AND 1 PRECEDING) AS TOV_AWAY_avg,\n",
      "        AVG(PF_AWAY) OVER (ORDER BY GAME_DATE ROWS BETWEEN 15 PRECEDING AND 1 PRECEDING) AS PF_AWAY_avg,\n",
      "        AVG(PTS_AWAY) OVER (ORDER BY GAME_DATE ROWS BETWEEN 15 PRECEDING AND 1 PRECEDING) AS PTS_AWAY_avg\n",
      "    FROM Game\n",
      "    WHERE Season >= 2019 AND TEAM_ID_HOME = 1610612746\n",
      ")\n",
      "SELECT * FROM home_games, away_games]\n",
      "(Background on this error at: https://sqlalche.me/e/14/e3q8)\n"
     ]
    }
   ],
   "source": [
    "%%sql\n",
    "WITH home_games AS (\n",
    "    SELECT TEAM_ID_HOME, GAME_DATE, TEAM_ABBREVIATION_HOME,\n",
    "        AVG(FGM_HOME) OVER (ORDER BY GAME_DATE ROWS BETWEEN 15 PRECEDING AND 1 PRECEDING) AS FGM_HOME_avg,\n",
    "        AVG(FGA_HOME) OVER (ORDER BY GAME_DATE ROWS BETWEEN 15 PRECEDING AND 1 PRECEDING) AS FGA_HOME_avg,\n",
    "        AVG(FG3M_HOME) OVER (ORDER BY GAME_DATE ROWS BETWEEN 15 PRECEDING AND 1 PRECEDING) AS FG3M_HOME_avg,\n",
    "        AVG(FG3M_HOME) OVER (ORDER BY GAME_DATE ROWS BETWEEN 15 PRECEDING AND 1 PRECEDING) AS FG3M_HOME_avg,\n",
    "        AVG(FTM_HOME) OVER (ORDER BY GAME_DATE ROWS BETWEEN 15 PRECEDING AND 1 PRECEDING) AS FTM_HOME_avg,\n",
    "        AVG(FTA_HOME) OVER (ORDER BY GAME_DATE ROWS BETWEEN 15 PRECEDING AND 1 PRECEDING) AS FTA_HOME_avg,\n",
    "        AVG(OREB_HOME) OVER (ORDER BY GAME_DATE ROWS BETWEEN 15 PRECEDING AND 1 PRECEDING) AS OREB_HOME_avg,\n",
    "        AVG(DREB_HOME) OVER (ORDER BY GAME_DATE ROWS BETWEEN 15 PRECEDING AND 1 PRECEDING) AS DREB_HOME_avg,\n",
    "        AVG(AST_HOME) OVER (ORDER BY GAME_DATE ROWS BETWEEN 15 PRECEDING AND 1 PRECEDING) AS AST_HOME_avg,\n",
    "        AVG(STL_HOME) OVER (ORDER BY GAME_DATE ROWS BETWEEN 15 PRECEDING AND 1 PRECEDING) AS STL_HOME_avg,\n",
    "        AVG(TOV_HOME) OVER (ORDER BY GAME_DATE ROWS BETWEEN 15 PRECEDING AND 1 PRECEDING) AS TOV_HOME_avg,\n",
    "        AVG(PF_HOME) OVER (ORDER BY GAME_DATE ROWS BETWEEN 15 PRECEDING AND 1 PRECEDING) AS PF_HOME_avg,\n",
    "        AVG(PTS_HOME) OVER (ORDER BY GAME_DATE ROWS BETWEEN 15 PRECEDING AND 1 PRECEDING) AS PTS_HOME_avg\n",
    "    FROM Game\n",
    "    WHERE Season >= 2019 AND TEAM_ID_HOME = 1610612746\n",
    "),\n",
    "WITH away_games AS (\n",
    "    SELECT TEAM_ID_AWAY, GAME_DATE, TEAM_ABBREVIATION_AWAY, \n",
    "        AVG(FGM_AWAY) OVER (ORDER BY GAME_DATE ROWS BETWEEN 15 PRECEDING AND 1 PRECEDING) AS FGM_AWAY_avg,\n",
    "        AVG(FGA_AWAY) OVER (ORDER BY GAME_DATE ROWS BETWEEN 15 PRECEDING AND 1 PRECEDING) AS FGA_AWAY_avg,\n",
    "        AVG(FG3M_AWAY) OVER (ORDER BY GAME_DATE ROWS BETWEEN 15 PRECEDING AND 1 PRECEDING) AS FG3M_AWAY_avg,\n",
    "        AVG(FG3M_AWAY) OVER (ORDER BY GAME_DATE ROWS BETWEEN 15 PRECEDING AND 1 PRECEDING) AS FG3M_AWAY_avg,\n",
    "        AVG(FTM_AWAY) OVER (ORDER BY GAME_DATE ROWS BETWEEN 15 PRECEDING AND 1 PRECEDING) AS FTM_AWAY_avg,\n",
    "        AVG(FTA_AWAY) OVER (ORDER BY GAME_DATE ROWS BETWEEN 15 PRECEDING AND 1 PRECEDING) AS FTA_AWAY_avg,\n",
    "        AVG(OREB_AWAY) OVER (ORDER BY GAME_DATE ROWS BETWEEN 15 PRECEDING AND 1 PRECEDING) AS OREB_AWAY_avg,\n",
    "        AVG(DREB_AWAY) OVER (ORDER BY GAME_DATE ROWS BETWEEN 15 PRECEDING AND 1 PRECEDING) AS DREB_AWAY_avg,\n",
    "        AVG(AST_AWAY) OVER (ORDER BY GAME_DATE ROWS BETWEEN 15 PRECEDING AND 1 PRECEDING) AS AST_AWAY_avg,\n",
    "        AVG(STL_AWAY) OVER (ORDER BY GAME_DATE ROWS BETWEEN 15 PRECEDING AND 1 PRECEDING) AS STL_AWAY_avg,\n",
    "        AVG(TOV_AWAY) OVER (ORDER BY GAME_DATE ROWS BETWEEN 15 PRECEDING AND 1 PRECEDING) AS TOV_AWAY_avg,\n",
    "        AVG(PF_AWAY) OVER (ORDER BY GAME_DATE ROWS BETWEEN 15 PRECEDING AND 1 PRECEDING) AS PF_AWAY_avg,\n",
    "        AVG(PTS_AWAY) OVER (ORDER BY GAME_DATE ROWS BETWEEN 15 PRECEDING AND 1 PRECEDING) AS PTS_AWAY_avg\n",
    "    FROM Game\n",
    "    WHERE Season >= 2019 AND TEAM_ID_HOME = 1610612746\n",
    ")\n",
    "SELECT * FROM home_games, away_games"
   ]
  },
  {
   "cell_type": "code",
   "execution_count": null,
   "metadata": {},
   "outputs": [],
   "source": []
  }
 ],
 "metadata": {
  "kernelspec": {
   "display_name": "Python 3",
   "language": "python",
   "name": "python3"
  },
  "language_info": {
   "codemirror_mode": {
    "name": "ipython",
    "version": 3
   },
   "file_extension": ".py",
   "mimetype": "text/x-python",
   "name": "python",
   "nbconvert_exporter": "python",
   "pygments_lexer": "ipython3",
   "version": "3.8.5"
  }
 },
 "nbformat": 4,
 "nbformat_minor": 4
}
