{
 "cells": [
  {
   "cell_type": "code",
   "execution_count": 40,
   "metadata": {},
   "outputs": [],
   "source": [
    "import pandas as pd\n",
    "import numpy as np\n",
    "import matplotlib.pyplot as plt\n",
    "with open('./data/nba_games.csv', 'r') as f: \n",
    "  temp = np.genfromtxt(f,delimiter=',', skip_header = 1)"
   ]
  },
  {
   "cell_type": "code",
   "execution_count": 41,
   "metadata": {},
   "outputs": [],
   "source": [
    "#split feature matrix and label vector\n",
    "X = temp[:, 1:]\n",
    "y = temp[:, 0]"
   ]
  },
  {
   "cell_type": "code",
   "execution_count": 42,
   "metadata": {},
   "outputs": [
    {
     "name": "stdout",
     "output_type": "stream",
     "text": [
      "Size of training feature matrix: (14305, 24)\n",
      "Size of testing feature matrix: (6131, 24)\n",
      "Size of training label vector: (14305,)\n",
      "Size of testing label vector: (6131,)\n"
     ]
    }
   ],
   "source": [
    "# split training and testing data\n",
    "from sklearn.model_selection import train_test_split\n",
    "X_train, X_test, y_train, y_test = train_test_split(X, y, train_size=0.7)\n",
    "print(\"Size of training feature matrix: \"+str(X_train.shape))\n",
    "print(\"Size of testing feature matrix: \"+str(X_test.shape))\n",
    "print(\"Size of training label vector: \"+str(y_train.shape))\n",
    "print(\"Size of testing label vector: \"+str(y_test.shape))"
   ]
  },
  {
   "cell_type": "code",
   "execution_count": 44,
   "metadata": {},
   "outputs": [
    {
     "name": "stdout",
     "output_type": "stream",
     "text": [
      "[[103.17073171 103.82926829]\n",
      " [ 98.26829268  95.70731707]\n",
      " [ 92.51219512 100.73170732]\n",
      " ...\n",
      " [106.34146341 106.28571429]\n",
      " [ 98.82926829 108.36585366]\n",
      " [101.65853659  95.02439024]]\n"
     ]
    }
   ],
   "source": [
    "# Perform linear regression on pts_home and pts_away\n",
    "from sklearn.linear_model import LinearRegression\n",
    "from sklearn.metrics import r2_score\n",
    "\n",
    "# get pts_home and pts_away columns\n",
    "\n",
    "X_train_pts = X_train[:, [11, 23]]\n",
    "print(X_train_pts)\n",
    "reg = LinearRegression().fit(X_train_pts,y_train)"
   ]
  },
  {
   "cell_type": "code",
   "execution_count": null,
   "metadata": {},
   "outputs": [],
   "source": []
  }
 ],
 "metadata": {
  "kernelspec": {
   "display_name": "Python 3",
   "language": "python",
   "name": "python3"
  },
  "language_info": {
   "codemirror_mode": {
    "name": "ipython",
    "version": 3
   },
   "file_extension": ".py",
   "mimetype": "text/x-python",
   "name": "python",
   "nbconvert_exporter": "python",
   "pygments_lexer": "ipython3",
   "version": "3.8.5"
  },
  "vscode": {
   "interpreter": {
    "hash": "aee8b7b246df8f9039afb4144a1f6fd8d2ca17a180786b69acc140d282b71a49"
   }
  }
 },
 "nbformat": 4,
 "nbformat_minor": 2
}
